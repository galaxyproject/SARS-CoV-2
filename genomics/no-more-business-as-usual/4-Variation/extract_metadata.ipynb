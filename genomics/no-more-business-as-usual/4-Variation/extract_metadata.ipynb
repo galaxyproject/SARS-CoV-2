{
 "cells": [
  {
   "cell_type": "code",
   "execution_count": 1,
   "metadata": {},
   "outputs": [
    {
     "data": {
      "text/html": [
       "<style>.container { width:100% !important; }</style>"
      ],
      "text/plain": [
       "<IPython.core.display.HTML object>"
      ]
     },
     "metadata": {},
     "output_type": "display_data"
    }
   ],
   "source": [
    "# Set display to the full length\n",
    "\n",
    "from IPython.core.display import display, HTML\n",
    "display(HTML(\"<style>.container { width:100% !important; }</style>\"))"
   ]
  },
  {
   "cell_type": "code",
   "execution_count": 2,
   "metadata": {},
   "outputs": [
    {
     "name": "stdout",
     "output_type": "stream",
     "text": [
      "Requirement already satisfied: pysradb in /home/anton/anaconda3/envs/var_nb/lib/python3.8/site-packages (0.10.4)\r\n",
      "Requirement already satisfied: pandas==1.0.1 in /home/anton/anaconda3/envs/var_nb/lib/python3.8/site-packages (from pysradb) (1.0.1)\r\n",
      "Requirement already satisfied: xmltodict==0.12.0 in /home/anton/anaconda3/envs/var_nb/lib/python3.8/site-packages (from pysradb) (0.12.0)\r\n",
      "Requirement already satisfied: requests==2.23.0 in /home/anton/anaconda3/envs/var_nb/lib/python3.8/site-packages (from pysradb) (2.23.0)\r\n",
      "Requirement already satisfied: tqdm==4.43.0 in /home/anton/anaconda3/envs/var_nb/lib/python3.8/site-packages (from pysradb) (4.43.0)\r\n",
      "Requirement already satisfied: pytz>=2017.2 in /home/anton/anaconda3/envs/var_nb/lib/python3.8/site-packages (from pandas==1.0.1->pysradb) (2020.1)\r\n",
      "Requirement already satisfied: numpy>=1.13.3 in /home/anton/anaconda3/envs/var_nb/lib/python3.8/site-packages (from pandas==1.0.1->pysradb) (1.18.4)\r\n",
      "Requirement already satisfied: python-dateutil>=2.6.1 in /home/anton/anaconda3/envs/var_nb/lib/python3.8/site-packages (from pandas==1.0.1->pysradb) (2.8.1)\r\n",
      "Requirement already satisfied: urllib3!=1.25.0,!=1.25.1,<1.26,>=1.21.1 in /home/anton/anaconda3/envs/var_nb/lib/python3.8/site-packages (from requests==2.23.0->pysradb) (1.25.9)\r\n",
      "Requirement already satisfied: certifi>=2017.4.17 in /home/anton/anaconda3/envs/var_nb/lib/python3.8/site-packages (from requests==2.23.0->pysradb) (2020.4.5.1)\r\n",
      "Requirement already satisfied: chardet<4,>=3.0.2 in /home/anton/anaconda3/envs/var_nb/lib/python3.8/site-packages (from requests==2.23.0->pysradb) (3.0.4)\r\n",
      "Requirement already satisfied: idna<3,>=2.5 in /home/anton/anaconda3/envs/var_nb/lib/python3.8/site-packages (from requests==2.23.0->pysradb) (2.9)\r\n",
      "Requirement already satisfied: six>=1.5 in /home/anton/anaconda3/envs/var_nb/lib/python3.8/site-packages (from python-dateutil>=2.6.1->pandas==1.0.1->pysradb) (1.14.0)\r\n"
     ]
    }
   ],
   "source": [
    "!pip install pysradb"
   ]
  },
  {
   "cell_type": "code",
   "execution_count": 27,
   "metadata": {},
   "outputs": [],
   "source": [
    "import pandas as pd\n",
    "accession_list_path = 'current.txt'\n",
    "metadata_file_extension = 'md'"
   ]
  },
  {
   "cell_type": "code",
   "execution_count": 4,
   "metadata": {},
   "outputs": [
    {
     "name": "stdout",
     "output_type": "stream",
     "text": [
      "/home/anton/anaconda3/envs/var_nb/lib/python3.8/site-packages/tqdm/std.py:658: FutureWarning: The Panel class is removed from pandas. Accessing it from the top-level namespace will also be removed in the next version\n",
      "  from pandas import Panel\n",
      "/home/anton/anaconda3/envs/var_nb/lib/python3.8/site-packages/tqdm/std.py:658: FutureWarning: The Panel class is removed from pandas. Accessing it from the top-level namespace will also be removed in the next version\n",
      "  from pandas import Panel\n",
      "/home/anton/anaconda3/envs/var_nb/lib/python3.8/site-packages/tqdm/std.py:658: FutureWarning: The Panel class is removed from pandas. Accessing it from the top-level namespace will also be removed in the next version\n",
      "  from pandas import Panel\n",
      "/home/anton/anaconda3/envs/var_nb/lib/python3.8/site-packages/tqdm/std.py:658: FutureWarning: The Panel class is removed from pandas. Accessing it from the top-level namespace will also be removed in the next version\n",
      "  from pandas import Panel\n",
      "/home/anton/anaconda3/envs/var_nb/lib/python3.8/site-packages/tqdm/std.py:658: FutureWarning: The Panel class is removed from pandas. Accessing it from the top-level namespace will also be removed in the next version\n",
      "  from pandas import Panel\n",
      "/home/anton/anaconda3/envs/var_nb/lib/python3.8/site-packages/tqdm/std.py:658: FutureWarning: The Panel class is removed from pandas. Accessing it from the top-level namespace will also be removed in the next version\n",
      "  from pandas import Panel\n",
      "/home/anton/anaconda3/envs/var_nb/lib/python3.8/site-packages/tqdm/std.py:658: FutureWarning: The Panel class is removed from pandas. Accessing it from the top-level namespace will also be removed in the next version\n",
      "  from pandas import Panel\n",
      "/home/anton/anaconda3/envs/var_nb/lib/python3.8/site-packages/tqdm/std.py:658: FutureWarning: The Panel class is removed from pandas. Accessing it from the top-level namespace will also be removed in the next version\n",
      "  from pandas import Panel\n",
      "/home/anton/anaconda3/envs/var_nb/lib/python3.8/site-packages/tqdm/std.py:658: FutureWarning: The Panel class is removed from pandas. Accessing it from the top-level namespace will also be removed in the next version\n",
      "  from pandas import Panel\n",
      "/home/anton/anaconda3/envs/var_nb/lib/python3.8/site-packages/tqdm/std.py:658: FutureWarning: The Panel class is removed from pandas. Accessing it from the top-level namespace will also be removed in the next version\n",
      "  from pandas import Panel\n",
      "/home/anton/anaconda3/envs/var_nb/lib/python3.8/site-packages/tqdm/std.py:658: FutureWarning: The Panel class is removed from pandas. Accessing it from the top-level namespace will also be removed in the next version\n",
      "  from pandas import Panel\n",
      "/home/anton/anaconda3/envs/var_nb/lib/python3.8/site-packages/tqdm/std.py:658: FutureWarning: The Panel class is removed from pandas. Accessing it from the top-level namespace will also be removed in the next version\n",
      "  from pandas import Panel\n"
     ]
    }
   ],
   "source": [
    "# Generate a set of files containing metadata for SRA datasets\n",
    "# This relies on current.txt as the source of accessions\n",
    "\n",
    "with open(accession_list_path,'r') as f:\n",
    "    for line in f:\n",
    "        srr = line.rstrip()\n",
    "        cmd = \"pysradb metadata {0} --detailed --expand --saveto {0}.{1}\".format(srr,metadata_file_extension)\n",
    "        !{cmd}"
   ]
  },
  {
   "cell_type": "code",
   "execution_count": 28,
   "metadata": {},
   "outputs": [
    {
     "name": "stdout",
     "output_type": "stream",
     "text": [
      "ERR4082721.md does not exist\n",
      "ERR4082720.md does not exist\n",
      "ERR4082718.md does not exist\n",
      "ERR4082717.md does not exist\n",
      "ERR4082716.md does not exist\n",
      "ERR4082715.md does not exist\n",
      "ERR4082713.md does not exist\n",
      "ERR4082179.md does not exist\n",
      "ERR4082110.md does not exist\n",
      "SRR11314339.md does not exist\n",
      "SRR11300931.md does not exist\n",
      "SRR11059940.md does not exist\n",
      "SRR11059941.md does not exist\n",
      "SRR11059942.md does not exist\n",
      "SRR11059943.md does not exist\n",
      "SRR11059944.md does not exist\n",
      "SRR11059945.md does not exist\n",
      "SRR11059946.md does not exist\n",
      "SRR11059947.md does not exist\n"
     ]
    }
   ],
   "source": [
    "# SRR and ERR accessions contain different columns\n",
    "# Will populate two different dataframes as a result\n",
    "# They are later reconciled into one\n",
    "\n",
    "import os\n",
    "srr_df = pd.DataFrame()\n",
    "err_df = pd.DataFrame()\n",
    "with open(accession_list_path,'r') as f:\n",
    "    for line in f:\n",
    "        srr = line.rstrip()\n",
    "        filename = '{0}.{1}'.format(srr,metadata_file_extension)\n",
    "        if os.path.isfile(filename):\n",
    "            tdf = pd.read_csv(filename,sep='\\t')\n",
    "            if srr.startswith('SRR'):\n",
    "                srr_df = pd.concat([srr_df,tdf], ignore_index=True)\n",
    "            elif srr.startswith('ERR'):\n",
    "                err_df = pd.concat([err_df,tdf], ignore_index=True)\n",
    "        else:\n",
    "            print('{} does not exist'.format(filename))"
   ]
  },
  {
   "cell_type": "code",
   "execution_count": 29,
   "metadata": {},
   "outputs": [
    {
     "data": {
      "text/plain": [
       "Index(['study_accession', 'experiment_accession', 'experiment_title',\n",
       "       'experiment_desc', 'organism_taxid ', 'organism_name',\n",
       "       'library_strategy', 'library_source', 'library_selection',\n",
       "       'sample_accession', 'sample_title', 'instrument', 'total_spots',\n",
       "       'total_size', 'run_accession', 'run_total_spots', 'run_total_bases',\n",
       "       'run_alias', 'sra_url_alt1', 'sra_url_alt2', 'sra_url',\n",
       "       'experiment_alias', 'ENA-FIRST-PUBLIC', 'ENA-LAST-UPDATE',\n",
       "       'sra_url_alt', 'collection_date',\n",
       "       'geographic location (country and/or sea)',\n",
       "       'geographic location (region and locality)', 'ena_fastq_url',\n",
       "       'ena_fastq_ftp', 'collecting institution', 'collection date',\n",
       "       'collector name', 'definition for seropositive sample',\n",
       "       'geographic location (latitude)', 'geographic location (longitude)',\n",
       "       'host age', 'host behaviour', 'host common name', 'host health state',\n",
       "       'host scientific name', 'host sex', 'host subject id', 'isolate',\n",
       "       'isolation source host-associated',\n",
       "       'isolation source non-host-associated', 'receipt date',\n",
       "       'serotype (required for a seropositive sample)', 'virus identifier'],\n",
       "      dtype='object')"
      ]
     },
     "execution_count": 29,
     "metadata": {},
     "output_type": "execute_result"
    }
   ],
   "source": [
    "err_df.columns"
   ]
  },
  {
   "cell_type": "code",
   "execution_count": 32,
   "metadata": {},
   "outputs": [],
   "source": [
    "# This is necessary as some files produced by pysradb contain three lines for some reason\n",
    "columns = ['study_accession','experiment_accession','experiment_title','experiment_desc','organism_taxid','library_strategy','library_source','library_selection','sample_accession','instrument','total_size','run_accession','collection_date','location','host']\n",
    "\n",
    "if len(srr_df) > 0:\n",
    "    srr_df.dropna(subset=['study_accession'], inplace=True)\n",
    "    srr_clean = srr_df[['study_accession','experiment_accession','experiment_title','experiment_desc','organism_taxid ','library_strategy','library_source','library_selection','sample_accession','instrument','total_size','run_accession','collection_date','geo_loc_name','host']]\n",
    "    srr_clean.columns = columns\n",
    "if len(err_df) > 0:\n",
    "    err_df.dropna(subset=['study_accession'], inplace=True)\n",
    "    err_clean = err_df[['study_accession','experiment_accession','experiment_title','experiment_desc','organism_taxid ','library_strategy','library_source','library_selection','sample_accession','instrument','total_size','run_accession','collection_date','geographic location (country and/or sea)','host scientific name']]\n",
    "    err_clean.columns = columns"
   ]
  },
  {
   "cell_type": "code",
   "execution_count": 35,
   "metadata": {},
   "outputs": [],
   "source": [
    "pd.concat([srr_clean,err_clean]).to_csv('current_md.txt',sep='\\t')"
   ]
  },
  {
   "cell_type": "code",
   "execution_count": null,
   "metadata": {},
   "outputs": [],
   "source": []
  }
 ],
 "metadata": {
  "kernelspec": {
   "display_name": "Python 3",
   "language": "python",
   "name": "python3"
  },
  "language_info": {
   "codemirror_mode": {
    "name": "ipython",
    "version": 3
   },
   "file_extension": ".py",
   "mimetype": "text/x-python",
   "name": "python",
   "nbconvert_exporter": "python",
   "pygments_lexer": "ipython3",
   "version": "3.8.2"
  }
 },
 "nbformat": 4,
 "nbformat_minor": 4
}
