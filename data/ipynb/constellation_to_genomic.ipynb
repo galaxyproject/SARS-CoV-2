{
 "cells": [
  {
   "cell_type": "code",
   "execution_count": 1,
   "id": "06d6e08f-1f21-4456-be40-7f20a33cf020",
   "metadata": {},
   "outputs": [],
   "source": [
    "import requests\n",
    "import urllib.request, json \n",
    "import pandas as pd\n",
    "import altair as alt\n",
    "import numpy as np\n",
    "from io import StringIO\n",
    "from Bio import SeqIO\n",
    "import gzip"
   ]
  },
  {
   "cell_type": "code",
   "execution_count": 2,
   "id": "c279d90d-c69c-4514-91a5-8f9d10ca4716",
   "metadata": {
    "tags": []
   },
   "outputs": [],
   "source": [
    "# Get constellation annotations from github.com/cov-lineages/constellations/main\n",
    "\n",
    "def get_json(url_to_json):\n",
    "    with urllib.request.urlopen(url_to_json) as url:\n",
    "        data = json.loads(url.read().decode())\n",
    "    return(data)\n",
    "\n",
    "user = \"cov-lineages\"\n",
    "repo = \"constellations\"\n",
    "lineages = {}\n",
    "genome = {}\n",
    "url = \"https://api.github.com/repos/{}/{}/git/trees/main?recursive=1\".format(user, repo)\n",
    "r = requests.get(url)\n",
    "res = r.json()\n",
    "for file in res[\"tree\"]:\n",
    "    if file['path'].startswith('constellations/definitions/'):\n",
    "        data = get_json('https://raw.githubusercontent.com/cov-lineages/constellations/main/{}'.format(file['path']))\n",
    "        lineages[data['label']]=data\n",
    "    if file['path'].startswith('constellations/data/SARS-CoV-2.json'):\n",
    "        genome = get_json('https://raw.githubusercontent.com/cov-lineages/constellations/main/{}'.format(file['path']))       "
   ]
  },
  {
   "cell_type": "code",
   "execution_count": 3,
   "id": "d9013285-e6a7-42b6-b764-7e0a9405f579",
   "metadata": {},
   "outputs": [],
   "source": [
    "# This generates a list of all gene names in all cov-lineages json blobs\n",
    "\n",
    "genes = []\n",
    "for key in lineages.keys():\n",
    "    for site in lineages[key]['sites']:\n",
    "        genes.append(site.split(':')[0].lower())"
   ]
  },
  {
   "cell_type": "code",
   "execution_count": 4,
   "id": "a495d4a7-18e5-403a-9e76-71a92908f4b6",
   "metadata": {},
   "outputs": [
    {
     "data": {
      "text/plain": [
       "['1ab',\n",
       " '8',\n",
       " 'del',\n",
       " 'e',\n",
       " 'm',\n",
       " 'n',\n",
       " 'nsp12',\n",
       " 'nsp13',\n",
       " 'nsp15',\n",
       " 'nsp2',\n",
       " 'nsp3',\n",
       " 'nsp4',\n",
       " 'nsp5',\n",
       " 'nsp6',\n",
       " 'nsp7',\n",
       " 'nuc',\n",
       " 'orf1a',\n",
       " 'orf1ab',\n",
       " 'orf1b',\n",
       " 'orf3a',\n",
       " 'orf7a',\n",
       " 'orf8',\n",
       " 's',\n",
       " 'spike']"
      ]
     },
     "execution_count": 4,
     "metadata": {},
     "output_type": "execute_result"
    }
   ],
   "source": [
    "# A sorted set of gene names\n",
    "\n",
    "sorted(set(genes))"
   ]
  },
  {
   "cell_type": "code",
   "execution_count": 5,
   "id": "d3f99b72-1a87-4161-8ac7-09c5f91553d9",
   "metadata": {},
   "outputs": [],
   "source": [
    "# Here we define standard names\n",
    "standard_names = 'del,e,m,n,nsp12,nsp13,nsp14,nsp15,nsp2,nsp3,nsp4,nsp5,nsp6,nsp7,nuc,orf1a,orf1ab,orf1b,orf3a,orf7a,orf8,orf3b,s,nuc'.split(',')"
   ]
  },
  {
   "cell_type": "code",
   "execution_count": 6,
   "id": "e834fd68-841e-4d79-8330-ae8b615065e0",
   "metadata": {},
   "outputs": [
    {
     "name": "stdout",
     "output_type": "stream",
     "text": [
      "8\n",
      "1ab\n",
      "spike\n"
     ]
    }
   ],
   "source": [
    "# Cheking which names are non-standard in the json files\n",
    "\n",
    "for name in set(genes):\n",
    "    if name not in standard_names:\n",
    "        print(name)"
   ]
  },
  {
   "cell_type": "code",
   "execution_count": 7,
   "id": "16a89d68-62be-400d-8a50-c1beaf6afa94",
   "metadata": {},
   "outputs": [],
   "source": [
    "# A translation for non-standard names\n",
    "\n",
    "non_standard_translations = {'spike':'s','8':'orf8','1ab':'orf1ab'}"
   ]
  },
  {
   "cell_type": "code",
   "execution_count": 8,
   "id": "95204a7a-ef8e-48b0-b669-a3fab71a62ae",
   "metadata": {},
   "outputs": [],
   "source": [
    "# Relabel gene identifiers for variable sites using \n",
    "# standard_names and non_standard_translations dicts\n",
    "\n",
    "for lineage in lineages.keys():\n",
    "    sites = []\n",
    "    for site in lineages[lineage]['sites']:\n",
    "        elements = site.split(':')\n",
    "        elements[0] = elements[0].lower()\n",
    "        if elements[0] not in standard_names:\n",
    "            if elements[0] in non_standard_translations.keys():\n",
    "                elements[0] = non_standard_translations[elements[0]]\n",
    "            else:\n",
    "                print(\"Non standard gene name: '{}'. Add this to non_standard_translations dict.\".format(g))\n",
    "        sites.append(':'.join(elements))\n",
    "    lineages[lineage]['sites'] = sites"
   ]
  },
  {
   "cell_type": "code",
   "execution_count": 9,
   "id": "1326bb6d-7545-4939-aa49-4051e35d0492",
   "metadata": {},
   "outputs": [],
   "source": [
    "# URLs for annotations and sequence\n",
    "\n",
    "fa_url = \"https://ftp.ncbi.nlm.nih.gov/genomes/all/GCF/009/858/895/GCF_009858895.2_ASM985889v3/GCF_009858895.2_ASM985889v3_genomic.fna.gz\"\n",
    "gff_url = \"https://ftp.ncbi.nlm.nih.gov/genomes/all/GCF/009/858/895/GCF_009858895.2_ASM985889v3/GCF_009858895.2_ASM985889v3_genomic.gff.gz\""
   ]
  },
  {
   "cell_type": "code",
   "execution_count": 10,
   "id": "b54bcf66-2030-4e7e-8f27-dea9780f6a2b",
   "metadata": {},
   "outputs": [],
   "source": [
    "# Function for reading gzipped filed from a URL\n",
    "# a returning a text blob\n",
    "\n",
    "def read_gzipped_url(url):\n",
    "    try:\n",
    "        with urllib.request.urlopen(url) as response:\n",
    "            with gzip.open(response,mode='rt') as uncompressed:\n",
    "                content = uncompressed.read()\n",
    "    except Exception as e:\n",
    "        print(e)\n",
    "    return(content)"
   ]
  },
  {
   "cell_type": "code",
   "execution_count": 11,
   "id": "b21a396c-3f39-430b-814c-32dc4f4fb5c9",
   "metadata": {},
   "outputs": [],
   "source": [
    "import re\n",
    "\n",
    "# Extract rows from NCBI gff annotation of SARS-CoV-2\n",
    "# Rows must have either 'mature_protein_region_of_CDS' or\n",
    "# 'CDS'\n",
    "# Note that because some rows are repeated we are using python `set`\n",
    "# Rows containing `mature_protein_region_of_CDS`\n",
    "pr = re.compile(\"NC_045512\\.2\\tRefSeq\\tmature_protein_region_of_CDS\\t(\\d*)\\t(\\d*).*product=([\\w\\s\\'-]*)\\;\")\n",
    "\n",
    "# Rows containing `CDS`\n",
    "gn = re.compile(\"NC_045512\\.2\\tRefSeq\\tCDS\\t(\\d*)\\t(\\d*).*gene=([\\w\\s\\'-]*)\\;\")\n",
    "\n",
    "# Read GFF\n",
    "gff = read_gzipped_url(gff_url)\n",
    "\n",
    "# Find matches and save then as a flattened list\n",
    "matches = set([ x for y in [pr.findall(gff), gn.findall(gff)] for x in y ])"
   ]
  },
  {
   "cell_type": "code",
   "execution_count": 12,
   "id": "b51807e6-b3e9-4d5d-b564-e986397120d7",
   "metadata": {},
   "outputs": [
    {
     "data": {
      "text/plain": [
       "{('10055', '10972', '3C-like proteinase'),\n",
       " ('10973', '11842', 'nsp6'),\n",
       " ('11843', '12091', 'nsp7'),\n",
       " ('12092', '12685', 'nsp8'),\n",
       " ('12686', '13024', 'nsp9'),\n",
       " ('13025', '13441', 'nsp10'),\n",
       " ('13442', '13468', 'RNA-dependent RNA polymerase'),\n",
       " ('13442', '13480', 'nsp11'),\n",
       " ('13468', '16236', 'RNA-dependent RNA polymerase'),\n",
       " ('13468', '21555', 'ORF1ab'),\n",
       " ('16237', '18039', 'helicase'),\n",
       " ('18040', '19620', \"3'-to-5' exonuclease\"),\n",
       " ('19621', '20658', 'endoRNAse'),\n",
       " ('20659', '21552', \"2'-O-ribose methyltransferase\"),\n",
       " ('21563', '25384', 'S'),\n",
       " ('25393', '26220', 'ORF3a'),\n",
       " ('26245', '26472', 'E'),\n",
       " ('26523', '27191', 'M'),\n",
       " ('266', '13468', 'ORF1ab'),\n",
       " ('266', '13483', 'ORF1ab'),\n",
       " ('266', '805', 'leader protein'),\n",
       " ('2720', '8554', 'nsp3'),\n",
       " ('27202', '27387', 'ORF6'),\n",
       " ('27394', '27759', 'ORF7a'),\n",
       " ('27756', '27887', 'ORF7b'),\n",
       " ('27894', '28259', 'ORF8'),\n",
       " ('28274', '29533', 'N'),\n",
       " ('29558', '29674', 'ORF10'),\n",
       " ('806', '2719', 'nsp2'),\n",
       " ('8555', '10054', 'nsp4')}"
      ]
     },
     "execution_count": 12,
     "metadata": {},
     "output_type": "execute_result"
    }
   ],
   "source": [
    "matches"
   ]
  },
  {
   "cell_type": "code",
   "execution_count": 13,
   "id": "13f7cf7b-7adb-4888-92d4-94832898bd42",
   "metadata": {},
   "outputs": [],
   "source": [
    "# Read genome sequence from NCBI\n",
    "genome = SeqIO.read(StringIO(read_gzipped_url(fa_url)),\"fasta\")"
   ]
  },
  {
   "cell_type": "code",
   "execution_count": 14,
   "id": "3269c524-07bc-4cea-9490-2621722be49b",
   "metadata": {},
   "outputs": [],
   "source": [
    "# Pango lineages uses a specific list of gene names\n",
    "# This dict is used to translate names obtained from NCBI's gff \n",
    "# Info pango-compatible list\n",
    "\n",
    "ncbi2pango = {\n",
    "    'endornase':'nsp15', \n",
    "     'nsp2':'nsp2', \n",
    "     'helicase':'nsp13', \n",
    "     'rna-dependent rna polymerase':'nsp12', \n",
    "     'nsp3':'nsp3', \n",
    "     'm':'m', \n",
    "     'orf8':'orf8', \n",
    "     \"3'-to-5' exonuclease\":'nsp14', \n",
    "     'orf1ab':'orf1ab', \n",
    "     'nsp4':'nsp4', \n",
    "     'orf7b':'orf7b', \n",
    "     'n':'n', \n",
    "     'nsp10':'nsp10', \n",
    "     \"2'-o-ribose methyltransferase\":'nsp16', \n",
    "     'e':'e', \n",
    "     'nsp7':'nsp7', \n",
    "     'nsp9':'nsp9', \n",
    "     'nsp8':'nsp8', \n",
    "     'orf3a':'orf3a', \n",
    "     'nsp11':'nsp11', \n",
    "     'nsp6':'nsp6', \n",
    "     'leader protein':'nsp1', \n",
    "     's':'s', \n",
    "     'orf10':'orf10', \n",
    "     'orf6':'orf6', \n",
    "     '3c-like proteinase':'nsp5', \n",
    "     'orf7a':'orf7a'\n",
    "}"
   ]
  },
  {
   "cell_type": "code",
   "execution_count": 15,
   "id": "76575d1f-ffab-415c-a207-c754dfac93bd",
   "metadata": {},
   "outputs": [],
   "source": [
    "# Translate gene names from ncbi to pango\n",
    "# using ncbi2pango dict\n",
    "\n",
    "annotations = {}\n",
    "for item in matches:\n",
    "    start, end, gene = item\n",
    "    gene = gene.lower()\n",
    "    if not gene in ncbi2pango.keys():\n",
    "        print('Missing gene {} in ncbi2pango mapping'.format(gene))\n",
    "    gene = ncbi2pango[gene]\n",
    "    if gene not in annotations.keys():\n",
    "        annotations[ gene ] = [ [ int(start), int(end) ] ]\n",
    "    else:\n",
    "        annotations[ gene ].append( [ int(start),int(end) ] )"
   ]
  },
  {
   "cell_type": "code",
   "execution_count": 16,
   "id": "725cc355-22d1-4672-b0cf-07dbfce04f43",
   "metadata": {},
   "outputs": [
    {
     "data": {
      "text/plain": [
       "{'nsp6': [[10973, 11842]],\n",
       " 'nsp8': [[12092, 12685]],\n",
       " 'nsp13': [[16237, 18039]],\n",
       " 'orf6': [[27202, 27387]],\n",
       " 'nsp4': [[8555, 10054]],\n",
       " 'orf1ab': [[266, 13483], [13468, 21555], [266, 13468]],\n",
       " 'nsp9': [[12686, 13024]],\n",
       " 'orf10': [[29558, 29674]],\n",
       " 'nsp1': [[266, 805]],\n",
       " 'orf8': [[27894, 28259]],\n",
       " 'nsp16': [[20659, 21552]],\n",
       " 'orf7a': [[27394, 27759]],\n",
       " 'nsp7': [[11843, 12091]],\n",
       " 's': [[21563, 25384]],\n",
       " 'nsp12': [[13468, 16236], [13442, 13468]],\n",
       " 'nsp5': [[10055, 10972]],\n",
       " 'nsp3': [[2720, 8554]],\n",
       " 'nsp15': [[19621, 20658]],\n",
       " 'nsp14': [[18040, 19620]],\n",
       " 'm': [[26523, 27191]],\n",
       " 'n': [[28274, 29533]],\n",
       " 'orf3a': [[25393, 26220]],\n",
       " 'e': [[26245, 26472]],\n",
       " 'nsp10': [[13025, 13441]],\n",
       " 'nsp11': [[13442, 13480]],\n",
       " 'orf7b': [[27756, 27887]],\n",
       " 'nsp2': [[806, 2719]]}"
      ]
     },
     "execution_count": 16,
     "metadata": {},
     "output_type": "execute_result"
    }
   ],
   "source": [
    "annotations"
   ]
  },
  {
   "cell_type": "code",
   "execution_count": 17,
   "id": "d893f0f7-a84b-40d7-9b79-eddbbe5667f2",
   "metadata": {},
   "outputs": [],
   "source": [
    "# Hacky tweaks to add orf1a and orf1b\n",
    "# and to adjust RdRp to full span (before and after franeshift, decreasing start by 1:\n",
    "# it goes form [[13442, 13468], [13468, 16236]] to [[13441, 16236]]\n",
    "\n",
    "annotations['orf1a']=[[266,13468]]\n",
    "annotations['orf1b']=[[13468,21555]]\n",
    "annotations['nsp12']=[[13441, 16236]]"
   ]
  },
  {
   "cell_type": "code",
   "execution_count": 18,
   "id": "f62db1cf-e296-495b-bf0d-aadae1ffc345",
   "metadata": {},
   "outputs": [
    {
     "data": {
      "text/plain": [
       "{'nsp6': [[10973, 11842]],\n",
       " 'nsp8': [[12092, 12685]],\n",
       " 'nsp13': [[16237, 18039]],\n",
       " 'orf6': [[27202, 27387]],\n",
       " 'nsp4': [[8555, 10054]],\n",
       " 'orf1ab': [[266, 13483], [13468, 21555], [266, 13468]],\n",
       " 'nsp9': [[12686, 13024]],\n",
       " 'orf10': [[29558, 29674]],\n",
       " 'nsp1': [[266, 805]],\n",
       " 'orf8': [[27894, 28259]],\n",
       " 'nsp16': [[20659, 21552]],\n",
       " 'orf7a': [[27394, 27759]],\n",
       " 'nsp7': [[11843, 12091]],\n",
       " 's': [[21563, 25384]],\n",
       " 'nsp12': [[13441, 16236]],\n",
       " 'nsp5': [[10055, 10972]],\n",
       " 'nsp3': [[2720, 8554]],\n",
       " 'nsp15': [[19621, 20658]],\n",
       " 'nsp14': [[18040, 19620]],\n",
       " 'm': [[26523, 27191]],\n",
       " 'n': [[28274, 29533]],\n",
       " 'orf3a': [[25393, 26220]],\n",
       " 'e': [[26245, 26472]],\n",
       " 'nsp10': [[13025, 13441]],\n",
       " 'nsp11': [[13442, 13480]],\n",
       " 'orf7b': [[27756, 27887]],\n",
       " 'nsp2': [[806, 2719]],\n",
       " 'orf1a': [[266, 13468]],\n",
       " 'orf1b': [[13468, 21555]]}"
      ]
     },
     "execution_count": 18,
     "metadata": {},
     "output_type": "execute_result"
    }
   ],
   "source": [
    "annotations"
   ]
  },
  {
   "cell_type": "code",
   "execution_count": 19,
   "id": "3829a842-c73d-4038-9882-2057775c21a6",
   "metadata": {},
   "outputs": [],
   "source": [
    "# Recompute coordionates from protein-based\n",
    "# to genome based\n",
    "\n",
    "def prot_to_genome(sites,annotations):\n",
    "    \n",
    "    '''\n",
    "    \n",
    "    Takes sites as list in the following format:\n",
    "        ['nuc:T733C','nuc:C2749T','orf1ab:S1188L']\n",
    "    and annotations in the following format:\n",
    "            {'nsp15': [[19621, 20658]],'nsp2': [[806, 2719]] ... }\n",
    "            \n",
    "    Returns a dict with original site names and their genomic coordinates:\n",
    "    \n",
    "        {'nuc:T733C': 732,'nuc:C2749T': 2748,'orf1ab:S1188L': 3826 ...}\n",
    "\n",
    "    '''\n",
    "    \n",
    "    p = re.compile(\"[A-Z]*(\\d*)\")\n",
    "    voc = {}\n",
    "    for site in sites:\n",
    "        cols = site.split(':')\n",
    "        \n",
    "        # The line below is based on assumpltion that coordinates annotated as belonging to orf1ab\n",
    "        # actually belong to orf1a\n",
    "        \n",
    "        if cols[0] == 'orf1ab':\n",
    "            cols[0] = 'orf1a'\n",
    "        if not site.startswith('del') and not site.startswith('nuc'):\n",
    "            start = annotations[cols[0]][0][0]\n",
    "            voc[site] = (int(p.findall(cols[1])[0]))*3+start-4\n",
    "        elif site.startswith('del'):\n",
    "            voc[site] = int(cols[1])-1\n",
    "        elif site.startswith('nuc'):\n",
    "            voc[site] = int(p.findall(cols[1])[0])-1\n",
    "    return(voc)"
   ]
  },
  {
   "cell_type": "code",
   "execution_count": 20,
   "id": "9796e391-875e-4547-86fa-0d47045ef9ac",
   "metadata": {},
   "outputs": [],
   "source": [
    "def validate_against_genome(genome,sites):\n",
    "\n",
    "    '''\n",
    "    \n",
    "    Validates aa replacement sites sites across genome by excising a codon,\n",
    "    translating it, and comparing translation with annotation\n",
    "    \n",
    "    Takes genome as BioPython SeqRecord and sites as a dict:\n",
    "    \n",
    "    {'nuc:T733C': 732,'nuc:C2749T': 2748,'orf1ab:S1188L': 3826 ...}\n",
    "    \n",
    "\n",
    "    '''\n",
    "    problems = {}\n",
    "    for key,site in sites.items():\n",
    "        if not ( key.startswith('del') or key.startswith('nuc') ):\n",
    "            aa_voc = key.split(':')[1][0]\n",
    "            aa = genome[site:site+3].translate()[0]\n",
    "            if not aa==aa_voc:\n",
    "                problems[key]=[site,aa,aa_voc,aa==aa_voc]\n",
    "    return(problems)\n",
    "                "
   ]
  },
  {
   "cell_type": "code",
   "execution_count": 21,
   "id": "a03a8b97-115d-4530-aa71-eb028a3c1a16",
   "metadata": {},
   "outputs": [],
   "source": [
    "# Here coordinates are converted from protein-based to genome based\n",
    "# Amino acid replacements are validated by translating a corresponding genomic region\n",
    "# and comparing with annotation\n",
    "\n",
    "genomic_sites = {}\n",
    "for lineage in lineages.keys():\n",
    "    genomic_sites[lineage] = prot_to_genome(lineages[lineage]['sites'],annotations)\n",
    "    problems = validate_against_genome(genome, genomic_sites[lineage])\n",
    "    if len(problems)>0:\n",
    "        print(lineage,problems)"
   ]
  },
  {
   "cell_type": "code",
   "execution_count": 22,
   "id": "be09aa64-c2ae-4cfb-9f29-be9facdaf594",
   "metadata": {},
   "outputs": [],
   "source": [
    "def expand_coordinates(sites):\n",
    "\n",
    "    '''\n",
    "        This function expands coordinates. A codon beginning position is exapanded into three positions\n",
    "        corresponding to all there codon nucleotides. For example, if codon begins at 4939 it will be expanded\n",
    "        into three lines:\n",
    "        4939   nsp3:L741F  A.23.1-like+E484K\n",
    "        4940   nsp3:L741F  A.23.1-like+E484K\n",
    "        4941   nsp3:L741F  A.23.1-like+E484K\n",
    "        \n",
    "        Input:\n",
    "            A dict with sites like this:\n",
    "            \n",
    "            {'nsp3:L741F': 4939,\n",
    "             'nsp6:M86I': 11227}\n",
    "             \n",
    "        Output:\n",
    "            A dict with the following structure:\n",
    "            \n",
    "            {4939: 'nsp3:L741F',\n",
    "             4940: 'nsp3:L741F',\n",
    "             4941: 'nsp3:L741F',\n",
    "             11227: 'nsp6:M86I',\n",
    "             11228: 'nsp6:M86I',\n",
    "             11229: 'nsp6:M86I'}\n",
    "    '''\n",
    "\n",
    "    pattern = \"([A-Z]+)\\d+[A-Z\\*-]+\"\n",
    "    a = re.compile(pattern)\n",
    "    expanded_list = {}\n",
    "    for key,site in sites.items():\n",
    "        if key.startswith('del'):\n",
    "            l = int(key.split(':')[2])\n",
    "            for pos in np.arange(site, site+l):\n",
    "                expanded_list[pos]=key\n",
    "        elif key.startswith('nuc'):\n",
    "            try:\n",
    "                l = len(a.findall(key.split(':')[1])[0])\n",
    "            except:\n",
    "                print('Problem matching {0} to {1}. Assigning as {2}:{0}'.format(key,pattern,site))\n",
    "                expanded_list[site]=key\n",
    "            for pos in np.arange(site, site+l):\n",
    "                expanded_list[pos]=key\n",
    "        else:\n",
    "            try:\n",
    "                l = len(a.findall(key)[0])\n",
    "            except:\n",
    "                print('Problem matching {0} to {1}. Assigning as {2}:{0}'.format(key,pattern,site))\n",
    "                expanded_list[site]=key\n",
    "            for pos in np.arange(site,site+l*3):\n",
    "                expanded_list[pos]=key \n",
    "    return(expanded_list)"
   ]
  },
  {
   "cell_type": "code",
   "execution_count": 23,
   "id": "477bfb58-97ef-4c09-b6cc-5c001be866dd",
   "metadata": {},
   "outputs": [
    {
     "name": "stdout",
     "output_type": "stream",
     "text": [
      "Problem matching nuc:28262+AACA to ([A-Z]+)\\d+[A-Z\\*-]+. Assigning as 28261:nuc:28262+AACA\n"
     ]
    }
   ],
   "source": [
    "# Run expansion on all lineages\n",
    "\n",
    "exp = {'POS':[],'variant':[],'lineage':[]}\n",
    "for key in genomic_sites.keys():\n",
    "    for pos,var in expand_coordinates(genomic_sites[key]).items():\n",
    "        #print(pos,var)\n",
    "        exp['POS'].append(pos)\n",
    "        exp['variant'].append(var)\n",
    "        exp['lineage'].append(key)"
   ]
  },
  {
   "cell_type": "code",
   "execution_count": 24,
   "id": "e72bc61a-8c21-4c6d-84c8-29917e35b7f6",
   "metadata": {},
   "outputs": [],
   "source": [
    "# Create a dataframe\n",
    "df = pd.DataFrame.from_dict(exp)"
   ]
  },
  {
   "cell_type": "code",
   "execution_count": 25,
   "id": "9258e739-f0a2-4368-9a9c-eab0f6ce2cd4",
   "metadata": {},
   "outputs": [
    {
     "data": {
      "text/html": [
       "\n",
       "<div id=\"altair-viz-872d091037b34a3d8fa7c8a16d83197b\"></div>\n",
       "<script type=\"text/javascript\">\n",
       "  (function(spec, embedOpt){\n",
       "    let outputDiv = document.currentScript.previousElementSibling;\n",
       "    if (outputDiv.id !== \"altair-viz-872d091037b34a3d8fa7c8a16d83197b\") {\n",
       "      outputDiv = document.getElementById(\"altair-viz-872d091037b34a3d8fa7c8a16d83197b\");\n",
       "    }\n",
       "    const paths = {\n",
       "      \"vega\": \"https://cdn.jsdelivr.net/npm//vega@5?noext\",\n",
       "      \"vega-lib\": \"https://cdn.jsdelivr.net/npm//vega-lib?noext\",\n",
       "      \"vega-lite\": \"https://cdn.jsdelivr.net/npm//vega-lite@4.8.1?noext\",\n",
       "      \"vega-embed\": \"https://cdn.jsdelivr.net/npm//vega-embed@6?noext\",\n",
       "    };\n",
       "\n",
       "    function loadScript(lib) {\n",
       "      return new Promise(function(resolve, reject) {\n",
       "        var s = document.createElement('script');\n",
       "        s.src = paths[lib];\n",
       "        s.async = true;\n",
       "        s.onload = () => resolve(paths[lib]);\n",
       "        s.onerror = () => reject(`Error loading script: ${paths[lib]}`);\n",
       "        document.getElementsByTagName(\"head\")[0].appendChild(s);\n",
       "      });\n",
       "    }\n",
       "\n",
       "    function showError(err) {\n",
       "      outputDiv.innerHTML = `<div class=\"error\" style=\"color:red;\">${err}</div>`;\n",
       "      throw err;\n",
       "    }\n",
       "\n",
       "    function displayChart(vegaEmbed) {\n",
       "      vegaEmbed(outputDiv, spec, embedOpt)\n",
       "        .catch(err => showError(`Javascript Error: ${err.message}<br>This usually means there's a typo in your chart specification. See the javascript console for the full traceback.`));\n",
       "    }\n",
       "\n",
       "    if(typeof define === \"function\" && define.amd) {\n",
       "      requirejs.config({paths});\n",
       "      require([\"vega-embed\"], displayChart, err => showError(`Error loading script: ${err.message}`));\n",
       "    } else if (typeof vegaEmbed === \"function\") {\n",
       "      displayChart(vegaEmbed);\n",
       "    } else {\n",
       "      loadScript(\"vega\")\n",
       "        .then(() => loadScript(\"vega-lite\"))\n",
       "        .then(() => loadScript(\"vega-embed\"))\n",
       "        .catch(showError)\n",
       "        .then(() => displayChart(vegaEmbed));\n",
       "    }\n",
       "  })({\"config\": {\"view\": {\"continuousWidth\": 400, \"continuousHeight\": 300}}, \"data\": {\"name\": \"data-6c84b87e8d29170c515d28146ba37695\"}, \"mark\": {\"type\": \"tick\", \"color\": \"green\"}, \"encoding\": {\"tooltip\": [{\"type\": \"nominal\", \"field\": \"variant\", \"title\": \"variant\"}], \"x\": {\"type\": \"quantitative\", \"axis\": {\"grid\": false}, \"field\": \"POS\", \"title\": \"Position\"}, \"y\": {\"type\": \"ordinal\", \"axis\": {\"grid\": false}, \"field\": \"lineage\", \"title\": \"Lineage\"}}, \"height\": 400, \"width\": 800, \"$schema\": \"https://vega.github.io/schema/vega-lite/v4.8.1.json\", \"datasets\": {\"data-6c84b87e8d29170c515d28146ba37695\": [{\"lineage\": \"A.23.1-like\", \"variant\": \"n:S202N\", \"POS\": 28876}, {\"lineage\": \"A.23.1-like\", \"variant\": \"nsp3:L741F\", \"POS\": 4939}, {\"lineage\": \"A.23.1-like\", \"variant\": \"nsp6:L98F\", \"POS\": 11263}, {\"lineage\": \"A.23.1-like\", \"variant\": \"nsp6:M183I\", \"POS\": 11518}, {\"lineage\": \"A.23.1-like\", \"variant\": \"nsp6:M86I\", \"POS\": 11227}, {\"lineage\": \"A.23.1-like\", \"variant\": \"orf8:E92K\", \"POS\": 28166}, {\"lineage\": \"A.23.1-like\", \"variant\": \"orf8:L84S\", \"POS\": 28142}, {\"lineage\": \"A.23.1-like\", \"variant\": \"s:F157L\", \"POS\": 22030}, {\"lineage\": \"A.23.1-like\", \"variant\": \"s:P681R\", \"POS\": 23602}, {\"lineage\": \"A.23.1-like\", \"variant\": \"s:Q613H\", \"POS\": 23398}, {\"lineage\": \"A.23.1-like\", \"variant\": \"s:R102I\", \"POS\": 21865}, {\"lineage\": \"A.23.1-like\", \"variant\": \"s:V367F\", \"POS\": 22660}, {\"lineage\": \"A.23.1-like+E484K\", \"variant\": \"n:S202N\", \"POS\": 28876}, {\"lineage\": \"A.23.1-like+E484K\", \"variant\": \"nsp3:L741F\", \"POS\": 4939}, {\"lineage\": \"A.23.1-like+E484K\", \"variant\": \"nsp6:L98F\", \"POS\": 11263}, {\"lineage\": \"A.23.1-like+E484K\", \"variant\": \"nsp6:M183I\", \"POS\": 11518}, {\"lineage\": \"A.23.1-like+E484K\", \"variant\": \"nsp6:M86I\", \"POS\": 11227}, {\"lineage\": \"A.23.1-like+E484K\", \"variant\": \"orf8:E92K\", \"POS\": 28166}, {\"lineage\": \"A.23.1-like+E484K\", \"variant\": \"orf8:L84S\", \"POS\": 28142}, {\"lineage\": \"A.23.1-like+E484K\", \"variant\": \"s:E484K\", \"POS\": 23011}, {\"lineage\": \"A.23.1-like+E484K\", \"variant\": \"s:F157L\", \"POS\": 22030}, {\"lineage\": \"A.23.1-like+E484K\", \"variant\": \"s:P681R\", \"POS\": 23602}, {\"lineage\": \"A.23.1-like+E484K\", \"variant\": \"s:Q613H\", \"POS\": 23398}, {\"lineage\": \"A.23.1-like+E484K\", \"variant\": \"s:R102I\", \"POS\": 21865}, {\"lineage\": \"A.23.1-like+E484K\", \"variant\": \"s:V367F\", \"POS\": 22660}, {\"lineage\": \"AV.1-like\", \"variant\": \"m:A63T\", \"POS\": 26708}, {\"lineage\": \"AV.1-like\", \"variant\": \"m:H125Y\", \"POS\": 26894}, {\"lineage\": \"AV.1-like\", \"variant\": \"n:G204R\", \"POS\": 28882}, {\"lineage\": \"AV.1-like\", \"variant\": \"n:I157V\", \"POS\": 28741}, {\"lineage\": \"AV.1-like\", \"variant\": \"n:R203K\", \"POS\": 28879}, {\"lineage\": \"AV.1-like\", \"variant\": \"s:D1139H\", \"POS\": 24976}, {\"lineage\": \"AV.1-like\", \"variant\": \"s:D614G\", \"POS\": 23401}, {\"lineage\": \"AV.1-like\", \"variant\": \"s:D80G\", \"POS\": 21799}, {\"lineage\": \"AV.1-like\", \"variant\": \"s:E484K\", \"POS\": 23011}, {\"lineage\": \"AV.1-like\", \"variant\": \"s:G142D\", \"POS\": 21985}, {\"lineage\": \"AV.1-like\", \"variant\": \"s:I1130V\", \"POS\": 24949}, {\"lineage\": \"AV.1-like\", \"variant\": \"s:N439K\", \"POS\": 22876}, {\"lineage\": \"AV.1-like\", \"variant\": \"s:P681H\", \"POS\": 23602}, {\"lineage\": \"AV.1-like\", \"variant\": \"s:T95I\", \"POS\": 21844}, {\"lineage\": \"AV.1-like\", \"variant\": \"s:Y144-\", \"POS\": 21991}, {\"lineage\": \"Alpha (B.1.1.7-like)\", \"variant\": \"n:D3L\", \"POS\": 28279}, {\"lineage\": \"Alpha (B.1.1.7-like)\", \"variant\": \"n:S235F\", \"POS\": 28975}, {\"lineage\": \"Alpha (B.1.1.7-like)\", \"variant\": \"nuc:C14676T\", \"POS\": 14675}, {\"lineage\": \"Alpha (B.1.1.7-like)\", \"variant\": \"nuc:C15279T\", \"POS\": 15278}, {\"lineage\": \"Alpha (B.1.1.7-like)\", \"variant\": \"nuc:C26801T\", \"POS\": 26800}, {\"lineage\": \"Alpha (B.1.1.7-like)\", \"variant\": \"nuc:C5986T\", \"POS\": 5985}, {\"lineage\": \"Alpha (B.1.1.7-like)\", \"variant\": \"nuc:C913T\", \"POS\": 912}, {\"lineage\": \"Alpha (B.1.1.7-like)\", \"variant\": \"nuc:T16176C\", \"POS\": 16175}, {\"lineage\": \"Alpha (B.1.1.7-like)\", \"variant\": \"orf1ab:A1708D\", \"POS\": 5386}, {\"lineage\": \"Alpha (B.1.1.7-like)\", \"variant\": \"orf1ab:I2230T\", \"POS\": 6952}, {\"lineage\": \"Alpha (B.1.1.7-like)\", \"variant\": \"orf1ab:SGF3675-\", \"POS\": 11287}, {\"lineage\": \"Alpha (B.1.1.7-like)\", \"variant\": \"orf1ab:T1001I\", \"POS\": 3265}, {\"lineage\": \"Alpha (B.1.1.7-like)\", \"variant\": \"orf8:Q27*\", \"POS\": 27971}, {\"lineage\": \"Alpha (B.1.1.7-like)\", \"variant\": \"orf8:R52I\", \"POS\": 28046}, {\"lineage\": \"Alpha (B.1.1.7-like)\", \"variant\": \"orf8:Y73C\", \"POS\": 28109}, {\"lineage\": \"Alpha (B.1.1.7-like)\", \"variant\": \"s:A570D\", \"POS\": 23269}, {\"lineage\": \"Alpha (B.1.1.7-like)\", \"variant\": \"s:D1118H\", \"POS\": 24913}, {\"lineage\": \"Alpha (B.1.1.7-like)\", \"variant\": \"s:HV69-\", \"POS\": 21766}, {\"lineage\": \"Alpha (B.1.1.7-like)\", \"variant\": \"s:N501Y\", \"POS\": 23062}, {\"lineage\": \"Alpha (B.1.1.7-like)\", \"variant\": \"s:P681H\", \"POS\": 23602}, {\"lineage\": \"Alpha (B.1.1.7-like)\", \"variant\": \"s:S982A\", \"POS\": 24505}, {\"lineage\": \"Alpha (B.1.1.7-like)\", \"variant\": \"s:T716I\", \"POS\": 23707}, {\"lineage\": \"Alpha (B.1.1.7-like)\", \"variant\": \"s:Y144-\", \"POS\": 21991}, {\"lineage\": \"B.1.1.318-like\", \"variant\": \"del:11287:9\", \"POS\": 11286}, {\"lineage\": \"B.1.1.318-like\", \"variant\": \"del:21990:3\", \"POS\": 21989}, {\"lineage\": \"B.1.1.318-like\", \"variant\": \"del:27887:15\", \"POS\": 27886}, {\"lineage\": \"B.1.1.318-like\", \"variant\": \"del:28895:3\", \"POS\": 28894}, {\"lineage\": \"B.1.1.318-like\", \"variant\": \"m:I82T\", \"POS\": 26765}, {\"lineage\": \"B.1.1.318-like\", \"variant\": \"nsp15:V320M\", \"POS\": 20577}, {\"lineage\": \"B.1.1.318-like\", \"variant\": \"nsp3:K1693N\", \"POS\": 7795}, {\"lineage\": \"B.1.1.318-like\", \"variant\": \"nsp4:A446V\", \"POS\": 9889}, {\"lineage\": \"B.1.1.318-like\", \"variant\": \"nsp4:T173I\", \"POS\": 9070}, {\"lineage\": \"B.1.1.318-like\", \"variant\": \"nsp5:T21I\", \"POS\": 10114}, {\"lineage\": \"B.1.1.318-like\", \"variant\": \"nuc:A28271G\", \"POS\": 28270}, {\"lineage\": \"B.1.1.318-like\", \"variant\": \"nuc:C25276A\", \"POS\": 25275}, {\"lineage\": \"B.1.1.318-like\", \"variant\": \"nuc:C3961T\", \"POS\": 3960}, {\"lineage\": \"B.1.1.318-like\", \"variant\": \"nuc:T23287C\", \"POS\": 23286}, {\"lineage\": \"B.1.1.318-like\", \"variant\": \"orf8:E106*\", \"POS\": 28208}, {\"lineage\": \"B.1.1.318-like\", \"variant\": \"s:D796H\", \"POS\": 23947}, {\"lineage\": \"B.1.1.318-like\", \"variant\": \"s:E484K\", \"POS\": 23011}, {\"lineage\": \"B.1.1.318-like\", \"variant\": \"s:P681H\", \"POS\": 23602}, {\"lineage\": \"B.1.1.318-like\", \"variant\": \"s:T95I\", \"POS\": 21844}, {\"lineage\": \"B.1.1.7-like+E484K\", \"variant\": \"n:D3L\", \"POS\": 28279}, {\"lineage\": \"B.1.1.7-like+E484K\", \"variant\": \"n:S235F\", \"POS\": 28975}, {\"lineage\": \"B.1.1.7-like+E484K\", \"variant\": \"nuc:C14676T\", \"POS\": 14675}, {\"lineage\": \"B.1.1.7-like+E484K\", \"variant\": \"nuc:C15279T\", \"POS\": 15278}, {\"lineage\": \"B.1.1.7-like+E484K\", \"variant\": \"nuc:C26801T\", \"POS\": 26800}, {\"lineage\": \"B.1.1.7-like+E484K\", \"variant\": \"nuc:C5986T\", \"POS\": 5985}, {\"lineage\": \"B.1.1.7-like+E484K\", \"variant\": \"nuc:C913T\", \"POS\": 912}, {\"lineage\": \"B.1.1.7-like+E484K\", \"variant\": \"nuc:T16176C\", \"POS\": 16175}, {\"lineage\": \"B.1.1.7-like+E484K\", \"variant\": \"orf1ab:A1708D\", \"POS\": 5386}, {\"lineage\": \"B.1.1.7-like+E484K\", \"variant\": \"orf1ab:I2230T\", \"POS\": 6952}, {\"lineage\": \"B.1.1.7-like+E484K\", \"variant\": \"orf1ab:SGF3675-\", \"POS\": 11287}, {\"lineage\": \"B.1.1.7-like+E484K\", \"variant\": \"orf1ab:T1001I\", \"POS\": 3265}, {\"lineage\": \"B.1.1.7-like+E484K\", \"variant\": \"orf8:Q27*\", \"POS\": 27971}, {\"lineage\": \"B.1.1.7-like+E484K\", \"variant\": \"orf8:R52I\", \"POS\": 28046}, {\"lineage\": \"B.1.1.7-like+E484K\", \"variant\": \"orf8:Y73C\", \"POS\": 28109}, {\"lineage\": \"B.1.1.7-like+E484K\", \"variant\": \"s:A570D\", \"POS\": 23269}, {\"lineage\": \"B.1.1.7-like+E484K\", \"variant\": \"s:D1118H\", \"POS\": 24913}, {\"lineage\": \"B.1.1.7-like+E484K\", \"variant\": \"s:E484K\", \"POS\": 23011}, {\"lineage\": \"B.1.1.7-like+E484K\", \"variant\": \"s:HV69-\", \"POS\": 21766}, {\"lineage\": \"B.1.1.7-like+E484K\", \"variant\": \"s:N501Y\", \"POS\": 23062}, {\"lineage\": \"B.1.1.7-like+E484K\", \"variant\": \"s:P681H\", \"POS\": 23602}, {\"lineage\": \"B.1.1.7-like+E484K\", \"variant\": \"s:S982A\", \"POS\": 24505}, {\"lineage\": \"B.1.1.7-like+E484K\", \"variant\": \"s:T716I\", \"POS\": 23707}, {\"lineage\": \"B.1.1.7-like+E484K\", \"variant\": \"s:Y144-\", \"POS\": 21991}, {\"lineage\": \"B.1.617.1-like\", \"variant\": \"n:R203M\", \"POS\": 28879}, {\"lineage\": \"B.1.617.1-like\", \"variant\": \"nsp13:M429I\", \"POS\": 17520}, {\"lineage\": \"B.1.617.1-like\", \"variant\": \"nsp15:K259R\", \"POS\": 20394}, {\"lineage\": \"B.1.617.1-like\", \"variant\": \"nsp3:T749I\", \"POS\": 4963}, {\"lineage\": \"B.1.617.1-like\", \"variant\": \"nsp6:T77A\", \"POS\": 11200}, {\"lineage\": \"B.1.617.1-like\", \"variant\": \"nuc:C3457T\", \"POS\": 3456}, {\"lineage\": \"B.1.617.1-like\", \"variant\": \"orf3a:S26L\", \"POS\": 25467}, {\"lineage\": \"B.1.617.1-like\", \"variant\": \"orf7a:V82A\", \"POS\": 27636}, {\"lineage\": \"B.1.617.1-like\", \"variant\": \"s:E484Q\", \"POS\": 23011}, {\"lineage\": \"B.1.617.1-like\", \"variant\": \"s:L452R\", \"POS\": 22915}, {\"lineage\": \"B.1.617.1-like\", \"variant\": \"s:P681R\", \"POS\": 23602}, {\"lineage\": \"B.1.617.3-like\", \"variant\": \"n:D377Y\", \"POS\": 29401}, {\"lineage\": \"B.1.617.3-like\", \"variant\": \"n:P67S\", \"POS\": 28471}, {\"lineage\": \"B.1.617.3-like\", \"variant\": \"n:R203M\", \"POS\": 28879}, {\"lineage\": \"B.1.617.3-like\", \"variant\": \"nsp3:A1526V\", \"POS\": 7294}, {\"lineage\": \"B.1.617.3-like\", \"variant\": \"nsp3:T1830I\", \"POS\": 8206}, {\"lineage\": \"B.1.617.3-like\", \"variant\": \"nsp5:A194S\", \"POS\": 10633}, {\"lineage\": \"B.1.617.3-like\", \"variant\": \"nsp6:A117V\", \"POS\": 11320}, {\"lineage\": \"B.1.617.3-like\", \"variant\": \"nuc:C16293T\", \"POS\": 16292}, {\"lineage\": \"B.1.617.3-like\", \"variant\": \"nuc:C835T\", \"POS\": 834}, {\"lineage\": \"B.1.617.3-like\", \"variant\": \"nuc:T27384C\", \"POS\": 27383}, {\"lineage\": \"B.1.617.3-like\", \"variant\": \"orf7a:V82A\", \"POS\": 27636}, {\"lineage\": \"B.1.617.3-like\", \"variant\": \"orf8:T26I\", \"POS\": 27968}, {\"lineage\": \"B.1.617.3-like\", \"variant\": \"s:D950N\", \"POS\": 24409}, {\"lineage\": \"B.1.617.3-like\", \"variant\": \"s:E484Q\", \"POS\": 23011}, {\"lineage\": \"B.1.617.3-like\", \"variant\": \"s:L452R\", \"POS\": 22915}, {\"lineage\": \"B.1.617.3-like\", \"variant\": \"s:P681R\", \"POS\": 23602}, {\"lineage\": \"B.1.617.3-like\", \"variant\": \"s:T19R\", \"POS\": 21616}, {\"lineage\": \"Beta (B.1.351-like)\", \"variant\": \"del:11287:9\", \"POS\": 11286}, {\"lineage\": \"Beta (B.1.351-like)\", \"variant\": \"del:22280:9\", \"POS\": 22279}, {\"lineage\": \"Beta (B.1.351-like)\", \"variant\": \"e:P71L\", \"POS\": 26454}, {\"lineage\": \"Beta (B.1.351-like)\", \"variant\": \"n:T205I\", \"POS\": 28885}, {\"lineage\": \"Beta (B.1.351-like)\", \"variant\": \"nsp2:T85I\", \"POS\": 1057}, {\"lineage\": \"Beta (B.1.351-like)\", \"variant\": \"orf1ab:K1655N\", \"POS\": 5227}, {\"lineage\": \"Beta (B.1.351-like)\", \"variant\": \"orf1ab:K3353R\", \"POS\": 10321}, {\"lineage\": \"Beta (B.1.351-like)\", \"variant\": \"orf3a:Q57H\", \"POS\": 25560}, {\"lineage\": \"Beta (B.1.351-like)\", \"variant\": \"orf3a:S171L\", \"POS\": 25902}, {\"lineage\": \"Beta (B.1.351-like)\", \"variant\": \"s:A701V\", \"POS\": 23662}, {\"lineage\": \"Beta (B.1.351-like)\", \"variant\": \"s:D215G\", \"POS\": 22204}, {\"lineage\": \"Beta (B.1.351-like)\", \"variant\": \"s:D80A\", \"POS\": 21799}, {\"lineage\": \"Beta (B.1.351-like)\", \"variant\": \"s:E484K\", \"POS\": 23011}, {\"lineage\": \"Beta (B.1.351-like)\", \"variant\": \"s:N501Y\", \"POS\": 23062}, {\"lineage\": \"Delta (AY.4-like)\", \"variant\": \"del:22029:6\", \"POS\": 22028}, {\"lineage\": \"Delta (AY.4-like)\", \"variant\": \"del:28248:6\", \"POS\": 28247}, {\"lineage\": \"Delta (AY.4-like)\", \"variant\": \"del:28271:1\", \"POS\": 28270}, {\"lineage\": \"Delta (AY.4-like)\", \"variant\": \"n:G215C\", \"POS\": 28915}, {\"lineage\": \"Delta (AY.4-like)\", \"variant\": \"nuc:A11332G\", \"POS\": 11331}, {\"lineage\": \"Delta (AY.4-like)\", \"variant\": \"nuc:C27874T\", \"POS\": 27873}, {\"lineage\": \"Delta (AY.4-like)\", \"variant\": \"nuc:C8986T\", \"POS\": 8985}, {\"lineage\": \"Delta (AY.4-like)\", \"variant\": \"nuc:G29742T\", \"POS\": 29741}, {\"lineage\": \"Delta (AY.4-like)\", \"variant\": \"orf1a:A1306S\", \"POS\": 4180}, {\"lineage\": \"Delta (AY.4-like)\", \"variant\": \"orf1a:A2529V\", \"POS\": 7849}, {\"lineage\": \"Delta (AY.4-like)\", \"variant\": \"orf1a:P2046L\", \"POS\": 6400}, {\"lineage\": \"Delta (AY.4-like)\", \"variant\": \"orf1a:P2287S\", \"POS\": 7123}, {\"lineage\": \"Delta (AY.4-like)\", \"variant\": \"orf1a:T3255I\", \"POS\": 10027}, {\"lineage\": \"Delta (AY.4-like)\", \"variant\": \"orf1a:T3646A\", \"POS\": 11200}, {\"lineage\": \"Delta (AY.4-like)\", \"variant\": \"orf1a:V2930L\", \"POS\": 9052}, {\"lineage\": \"Delta (AY.4-like)\", \"variant\": \"orf1b:A1918V\", \"POS\": 19218}, {\"lineage\": \"Delta (AY.4-like)\", \"variant\": \"orf1b:G662S\", \"POS\": 15450}, {\"lineage\": \"Delta (AY.4-like)\", \"variant\": \"orf1b:P1000L\", \"POS\": 16464}, {\"lineage\": \"Delta (AY.4-like)\", \"variant\": \"orf1b:P314L\", \"POS\": 14406}, {\"lineage\": \"Delta (AY.4.2-like)\", \"variant\": \"nuc:T17040C\", \"POS\": 17039}, {\"lineage\": \"Delta (AY.4.2-like)\", \"variant\": \"s:A222V\", \"POS\": 22225}, {\"lineage\": \"Delta (AY.4.2-like)\", \"variant\": \"s:Y145H\", \"POS\": 21994}, {\"lineage\": \"Delta (B.1.617.2-like)\", \"variant\": \"m:I82T\", \"POS\": 26765}, {\"lineage\": \"Delta (B.1.617.2-like)\", \"variant\": \"n:D377Y\", \"POS\": 29401}, {\"lineage\": \"Delta (B.1.617.2-like)\", \"variant\": \"n:D63G\", \"POS\": 28459}, {\"lineage\": \"Delta (B.1.617.2-like)\", \"variant\": \"n:R203M\", \"POS\": 28879}, {\"lineage\": \"Delta (B.1.617.2-like)\", \"variant\": \"orf3a:S26L\", \"POS\": 25467}, {\"lineage\": \"Delta (B.1.617.2-like)\", \"variant\": \"orf7a:T120I\", \"POS\": 27750}, {\"lineage\": \"Delta (B.1.617.2-like)\", \"variant\": \"orf7a:V82A\", \"POS\": 27636}, {\"lineage\": \"Delta (B.1.617.2-like)\", \"variant\": \"s:D950N\", \"POS\": 24409}, {\"lineage\": \"Delta (B.1.617.2-like)\", \"variant\": \"s:G142D\", \"POS\": 21985}, {\"lineage\": \"Delta (B.1.617.2-like)\", \"variant\": \"s:L452R\", \"POS\": 22915}, {\"lineage\": \"Delta (B.1.617.2-like)\", \"variant\": \"s:P681R\", \"POS\": 23602}, {\"lineage\": \"Delta (B.1.617.2-like)\", \"variant\": \"s:T19R\", \"POS\": 21616}, {\"lineage\": \"Delta (B.1.617.2-like)\", \"variant\": \"s:T478K\", \"POS\": 22993}, {\"lineage\": \"Delta (B.1.617.2-like) +K417N\", \"variant\": \"m:I82T\", \"POS\": 26765}, {\"lineage\": \"Delta (B.1.617.2-like) +K417N\", \"variant\": \"n:D377Y\", \"POS\": 29401}, {\"lineage\": \"Delta (B.1.617.2-like) +K417N\", \"variant\": \"n:D63G\", \"POS\": 28459}, {\"lineage\": \"Delta (B.1.617.2-like) +K417N\", \"variant\": \"n:R203M\", \"POS\": 28879}, {\"lineage\": \"Delta (B.1.617.2-like) +K417N\", \"variant\": \"orf3a:S26L\", \"POS\": 25467}, {\"lineage\": \"Delta (B.1.617.2-like) +K417N\", \"variant\": \"orf7a:T120I\", \"POS\": 27750}, {\"lineage\": \"Delta (B.1.617.2-like) +K417N\", \"variant\": \"orf7a:V82A\", \"POS\": 27636}, {\"lineage\": \"Delta (B.1.617.2-like) +K417N\", \"variant\": \"s:D950N\", \"POS\": 24409}, {\"lineage\": \"Delta (B.1.617.2-like) +K417N\", \"variant\": \"s:K417N\", \"POS\": 22810}, {\"lineage\": \"Delta (B.1.617.2-like) +K417N\", \"variant\": \"s:L452R\", \"POS\": 22915}, {\"lineage\": \"Delta (B.1.617.2-like) +K417N\", \"variant\": \"s:P681R\", \"POS\": 23602}, {\"lineage\": \"Delta (B.1.617.2-like) +K417N\", \"variant\": \"s:T19R\", \"POS\": 21616}, {\"lineage\": \"Delta (B.1.617.2-like) +K417N\", \"variant\": \"s:T478K\", \"POS\": 22993}, {\"lineage\": \"Epsilon (B.1.427-like)\", \"variant\": \"n:T205I\", \"POS\": 28885}, {\"lineage\": \"Epsilon (B.1.427-like)\", \"variant\": \"nuc:A28272T\", \"POS\": 28271}, {\"lineage\": \"Epsilon (B.1.427-like)\", \"variant\": \"nuc:C241T\", \"POS\": 240}, {\"lineage\": \"Epsilon (B.1.427-like)\", \"variant\": \"nuc:C26681T\", \"POS\": 26680}, {\"lineage\": \"Epsilon (B.1.427-like)\", \"variant\": \"nuc:C3037T\", \"POS\": 3036}, {\"lineage\": \"Epsilon (B.1.427-like)\", \"variant\": \"nuc:G13713A\", \"POS\": 13712}, {\"lineage\": \"Epsilon (B.1.427-like)\", \"variant\": \"orf1a:T265I\", \"POS\": 1057}, {\"lineage\": \"Epsilon (B.1.427-like)\", \"variant\": \"orf1b:D1183Y\", \"POS\": 17013}, {\"lineage\": \"Epsilon (B.1.427-like)\", \"variant\": \"orf3a:Q57H\", \"POS\": 25560}, {\"lineage\": \"Epsilon (B.1.427-like)\", \"variant\": \"s:D614G\", \"POS\": 23401}, {\"lineage\": \"Epsilon (B.1.427-like)\", \"variant\": \"s:L452R\", \"POS\": 22915}, {\"lineage\": \"Epsilon (B.1.427-like)\", \"variant\": \"s:S13I\", \"POS\": 21598}, {\"lineage\": \"Epsilon (B.1.427-like)\", \"variant\": \"s:W152C\", \"POS\": 22015}, {\"lineage\": \"Epsilon (B.1.429-like)\", \"variant\": \"n:T205I\", \"POS\": 28885}, {\"lineage\": \"Epsilon (B.1.429-like)\", \"variant\": \"nuc:A28272T\", \"POS\": 28271}, {\"lineage\": \"Epsilon (B.1.429-like)\", \"variant\": \"nuc:C26681T\", \"POS\": 26680}, {\"lineage\": \"Epsilon (B.1.429-like)\", \"variant\": \"nuc:C3037T\", \"POS\": 3036}, {\"lineage\": \"Epsilon (B.1.429-like)\", \"variant\": \"nuc:G27890T\", \"POS\": 27889}, {\"lineage\": \"Epsilon (B.1.429-like)\", \"variant\": \"nuc:T24349C\", \"POS\": 24348}, {\"lineage\": \"Epsilon (B.1.429-like)\", \"variant\": \"orf1a:I4205V\", \"POS\": 12877}, {\"lineage\": \"Epsilon (B.1.429-like)\", \"variant\": \"orf1a:T265I\", \"POS\": 1057}, {\"lineage\": \"Epsilon (B.1.429-like)\", \"variant\": \"orf1b:D1183Y\", \"POS\": 17013}, {\"lineage\": \"Epsilon (B.1.429-like)\", \"variant\": \"orf3a:Q57H\", \"POS\": 25560}, {\"lineage\": \"Epsilon (B.1.429-like)\", \"variant\": \"s:D614G\", \"POS\": 23401}, {\"lineage\": \"Epsilon (B.1.429-like)\", \"variant\": \"s:L452R\", \"POS\": 22915}, {\"lineage\": \"Epsilon (B.1.429-like)\", \"variant\": \"s:S13I\", \"POS\": 21598}, {\"lineage\": \"Epsilon (B.1.429-like)\", \"variant\": \"s:W152C\", \"POS\": 22015}, {\"lineage\": \"Eta (B.1.525-like)\", \"variant\": \"e:L21F\", \"POS\": 26304}, {\"lineage\": \"Eta (B.1.525-like)\", \"variant\": \"m:I82T\", \"POS\": 26765}, {\"lineage\": \"Eta (B.1.525-like)\", \"variant\": \"nsp12:P323F\", \"POS\": 14406}, {\"lineage\": \"Eta (B.1.525-like)\", \"variant\": \"nuc:A1807G\", \"POS\": 1806}, {\"lineage\": \"Eta (B.1.525-like)\", \"variant\": \"nuc:A20724G\", \"POS\": 20723}, {\"lineage\": \"Eta (B.1.525-like)\", \"variant\": \"nuc:A28699G\", \"POS\": 28698}, {\"lineage\": \"Eta (B.1.525-like)\", \"variant\": \"nuc:C1498T\", \"POS\": 1497}, {\"lineage\": \"Eta (B.1.525-like)\", \"variant\": \"nuc:C18171T\", \"POS\": 18170}, {\"lineage\": \"Eta (B.1.525-like)\", \"variant\": \"nuc:C24748T\", \"POS\": 24747}, {\"lineage\": \"Eta (B.1.525-like)\", \"variant\": \"nuc:C9565T\", \"POS\": 9564}, {\"lineage\": \"Eta (B.1.525-like)\", \"variant\": \"nuc:G29543T\", \"POS\": 29542}, {\"lineage\": \"Eta (B.1.525-like)\", \"variant\": \"nuc:T8593C\", \"POS\": 8592}, {\"lineage\": \"Eta (B.1.525-like)\", \"variant\": \"s:E484K\", \"POS\": 23011}, {\"lineage\": \"Eta (B.1.525-like)\", \"variant\": \"s:F888L\", \"POS\": 24223}, {\"lineage\": \"Eta (B.1.525-like)\", \"variant\": \"s:Q52R\", \"POS\": 21715}, {\"lineage\": \"Eta (B.1.525-like)\", \"variant\": \"s:Q677H\", \"POS\": 23590}, {\"lineage\": \"Gamma (P.1-like)\", \"variant\": \"del:11287:9\", \"POS\": 11286}, {\"lineage\": \"Gamma (P.1-like)\", \"variant\": \"n:P80R\", \"POS\": 28510}, {\"lineage\": \"Gamma (P.1-like)\", \"variant\": \"nuc:28262+AACA\", \"POS\": 28261}, {\"lineage\": \"Gamma (P.1-like)\", \"variant\": \"nuc:C12778T\", \"POS\": 12777}, {\"lineage\": \"Gamma (P.1-like)\", \"variant\": \"nuc:C13860T\", \"POS\": 13859}, {\"lineage\": \"Gamma (P.1-like)\", \"variant\": \"nuc:C2749T\", \"POS\": 2748}, {\"lineage\": \"Gamma (P.1-like)\", \"variant\": \"nuc:T733C\", \"POS\": 732}, {\"lineage\": \"Gamma (P.1-like)\", \"variant\": \"orf1ab:K1795Q\", \"POS\": 5647}, {\"lineage\": \"Gamma (P.1-like)\", \"variant\": \"orf1ab:S1188L\", \"POS\": 3826}, {\"lineage\": \"Gamma (P.1-like)\", \"variant\": \"orf8:E92K\", \"POS\": 28166}, {\"lineage\": \"Gamma (P.1-like)\", \"variant\": \"s:E484K\", \"POS\": 23011}, {\"lineage\": \"Gamma (P.1-like)\", \"variant\": \"s:K417T\", \"POS\": 22810}, {\"lineage\": \"Gamma (P.1-like)\", \"variant\": \"s:N501Y\", \"POS\": 23062}, {\"lineage\": \"Gamma (P.1-like)\", \"variant\": \"s:P26S\", \"POS\": 21637}, {\"lineage\": \"Gamma (P.1-like)\", \"variant\": \"s:T1027I\", \"POS\": 24640}, {\"lineage\": \"Gamma (P.1-like)\", \"variant\": \"s:T20N\", \"POS\": 21619}, {\"lineage\": \"Iota (B.1.526-like)\", \"variant\": \"n:M234I\", \"POS\": 28972}, {\"lineage\": \"Iota (B.1.526-like)\", \"variant\": \"n:P13L\", \"POS\": 28309}, {\"lineage\": \"Iota (B.1.526-like)\", \"variant\": \"n:P199L\", \"POS\": 28867}, {\"lineage\": \"Iota (B.1.526-like)\", \"variant\": \"n:S202R\", \"POS\": 28876}, {\"lineage\": \"Iota (B.1.526-like)\", \"variant\": \"nuc:A20262G\", \"POS\": 20261}, {\"lineage\": \"Iota (B.1.526-like)\", \"variant\": \"nuc:A28271-\", \"POS\": 28270}, {\"lineage\": \"Iota (B.1.526-like)\", \"variant\": \"nuc:C3037T\", \"POS\": 3036}, {\"lineage\": \"Iota (B.1.526-like)\", \"variant\": \"orf1a:L3201P\", \"POS\": 9865}, {\"lineage\": \"Iota (B.1.526-like)\", \"variant\": \"orf1a:T265I\", \"POS\": 1057}, {\"lineage\": \"Iota (B.1.526-like)\", \"variant\": \"orf1ab:SGF3675-\", \"POS\": 11287}, {\"lineage\": \"Iota (B.1.526-like)\", \"variant\": \"orf1b:P314L\", \"POS\": 14406}, {\"lineage\": \"Iota (B.1.526-like)\", \"variant\": \"orf1b:Q1011H\", \"POS\": 16497}, {\"lineage\": \"Iota (B.1.526-like)\", \"variant\": \"orf3a:P42L\", \"POS\": 25515}, {\"lineage\": \"Iota (B.1.526-like)\", \"variant\": \"orf3a:Q57H\", \"POS\": 25560}, {\"lineage\": \"Iota (B.1.526-like)\", \"variant\": \"orf8:T11I\", \"POS\": 27923}, {\"lineage\": \"Iota (B.1.526-like)\", \"variant\": \"s:A701V\", \"POS\": 23662}, {\"lineage\": \"Iota (B.1.526-like)\", \"variant\": \"s:D253G\", \"POS\": 22318}, {\"lineage\": \"Iota (B.1.526-like)\", \"variant\": \"s:D614G\", \"POS\": 23401}, {\"lineage\": \"Iota (B.1.526-like)\", \"variant\": \"s:E484K\", \"POS\": 23011}, {\"lineage\": \"Iota (B.1.526-like)\", \"variant\": \"s:L5F\", \"POS\": 21574}, {\"lineage\": \"Iota (B.1.526-like)\", \"variant\": \"s:Q957R\", \"POS\": 24430}, {\"lineage\": \"Iota (B.1.526-like)\", \"variant\": \"s:S477N\", \"POS\": 22990}, {\"lineage\": \"Iota (B.1.526-like)\", \"variant\": \"s:T95I\", \"POS\": 21844}, {\"lineage\": \"Lambda (C.37-like)\", \"variant\": \"n:G204R\", \"POS\": 28882}, {\"lineage\": \"Lambda (C.37-like)\", \"variant\": \"n:G214C\", \"POS\": 28912}, {\"lineage\": \"Lambda (C.37-like)\", \"variant\": \"n:P13L\", \"POS\": 28309}, {\"lineage\": \"Lambda (C.37-like)\", \"variant\": \"n:R203K\", \"POS\": 28879}, {\"lineage\": \"Lambda (C.37-like)\", \"variant\": \"orf1a:F2387V\", \"POS\": 7423}, {\"lineage\": \"Lambda (C.37-like)\", \"variant\": \"orf1a:G3278S\", \"POS\": 10096}, {\"lineage\": \"Lambda (C.37-like)\", \"variant\": \"orf1a:L3201P\", \"POS\": 9865}, {\"lineage\": \"Lambda (C.37-like)\", \"variant\": \"orf1a:P2287S\", \"POS\": 7123}, {\"lineage\": \"Lambda (C.37-like)\", \"variant\": \"orf1a:SGF3675-\", \"POS\": 11287}, {\"lineage\": \"Lambda (C.37-like)\", \"variant\": \"orf1a:T1246I\", \"POS\": 4000}, {\"lineage\": \"Lambda (C.37-like)\", \"variant\": \"orf1a:T3255I\", \"POS\": 10027}, {\"lineage\": \"Lambda (C.37-like)\", \"variant\": \"orf1b:P314L\", \"POS\": 14406}, {\"lineage\": \"Lambda (C.37-like)\", \"variant\": \"s:D614G\", \"POS\": 23401}, {\"lineage\": \"Lambda (C.37-like)\", \"variant\": \"s:F490S\", \"POS\": 23029}, {\"lineage\": \"Lambda (C.37-like)\", \"variant\": \"s:G75V\", \"POS\": 21784}, {\"lineage\": \"Lambda (C.37-like)\", \"variant\": \"s:L452Q\", \"POS\": 22915}, {\"lineage\": \"Lambda (C.37-like)\", \"variant\": \"s:RSYLTPG246-\", \"POS\": 22297}, {\"lineage\": \"Lambda (C.37-like)\", \"variant\": \"s:T76I\", \"POS\": 21787}, {\"lineage\": \"Lambda (C.37-like)\", \"variant\": \"s:T859N\", \"POS\": 24136}, {\"lineage\": \"Mu (B.1.621-like)\", \"variant\": \"n:T205I\", \"POS\": 28885}, {\"lineage\": \"Mu (B.1.621-like)\", \"variant\": \"nuc:A13057T\", \"POS\": 13056}, {\"lineage\": \"Mu (B.1.621-like)\", \"variant\": \"nuc:A26492T\", \"POS\": 26491}, {\"lineage\": \"Mu (B.1.621-like)\", \"variant\": \"nuc:A28272T\", \"POS\": 28271}, {\"lineage\": \"Mu (B.1.621-like)\", \"variant\": \"nuc:C18877T\", \"POS\": 18876}, {\"lineage\": \"Mu (B.1.621-like)\", \"variant\": \"nuc:C20148T\", \"POS\": 20147}, {\"lineage\": \"Mu (B.1.621-like)\", \"variant\": \"nuc:C3037T\", \"POS\": 3036}, {\"lineage\": \"Mu (B.1.621-like)\", \"variant\": \"nuc:C6037T\", \"POS\": 6036}, {\"lineage\": \"Mu (B.1.621-like)\", \"variant\": \"nuc:T19035C\", \"POS\": 19034}, {\"lineage\": \"Mu (B.1.621-like)\", \"variant\": \"orf1a:Q3729R\", \"POS\": 11449}, {\"lineage\": \"Mu (B.1.621-like)\", \"variant\": \"orf1a:T1055A\", \"POS\": 3427}, {\"lineage\": \"Mu (B.1.621-like)\", \"variant\": \"orf1a:T1538I\", \"POS\": 4876}, {\"lineage\": \"Mu (B.1.621-like)\", \"variant\": \"orf1a:T3255I\", \"POS\": 10027}, {\"lineage\": \"Mu (B.1.621-like)\", \"variant\": \"orf1b:P1342S\", \"POS\": 17490}, {\"lineage\": \"Mu (B.1.621-like)\", \"variant\": \"orf1b:P314L\", \"POS\": 14406}, {\"lineage\": \"Mu (B.1.621-like)\", \"variant\": \"orf3a:Q57H\", \"POS\": 25560}, {\"lineage\": \"Mu (B.1.621-like)\", \"variant\": \"orf8:P38S\", \"POS\": 28004}, {\"lineage\": \"Mu (B.1.621-like)\", \"variant\": \"orf8:S67F\", \"POS\": 28091}, {\"lineage\": \"Mu (B.1.621-like)\", \"variant\": \"orf8:T11K\", \"POS\": 27923}, {\"lineage\": \"Mu (B.1.621-like)\", \"variant\": \"s:D614G\", \"POS\": 23401}, {\"lineage\": \"Mu (B.1.621-like)\", \"variant\": \"s:D950N\", \"POS\": 24409}, {\"lineage\": \"Mu (B.1.621-like)\", \"variant\": \"s:E484K\", \"POS\": 23011}, {\"lineage\": \"Mu (B.1.621-like)\", \"variant\": \"s:N501Y\", \"POS\": 23062}, {\"lineage\": \"Mu (B.1.621-like)\", \"variant\": \"s:P681H\", \"POS\": 23602}, {\"lineage\": \"Mu (B.1.621-like)\", \"variant\": \"s:R346K\", \"POS\": 22597}, {\"lineage\": \"Mu (B.1.621-like)\", \"variant\": \"s:T95I\", \"POS\": 21844}, {\"lineage\": \"Mu (B.1.621-like)\", \"variant\": \"s:Y145N\", \"POS\": 21994}, {\"lineage\": \"Omicron (B.1.1.529-like)\", \"variant\": \"e:T9I\", \"POS\": 26268}, {\"lineage\": \"Omicron (B.1.1.529-like)\", \"variant\": \"m:A63T\", \"POS\": 26708}, {\"lineage\": \"Omicron (B.1.1.529-like)\", \"variant\": \"m:D3G\", \"POS\": 26528}, {\"lineage\": \"Omicron (B.1.1.529-like)\", \"variant\": \"m:Q19E\", \"POS\": 26576}, {\"lineage\": \"Omicron (B.1.1.529-like)\", \"variant\": \"n:RG203KR\", \"POS\": 28879}, {\"lineage\": \"Omicron (B.1.1.529-like)\", \"variant\": \"nuc:A27259C\", \"POS\": 27258}, {\"lineage\": \"Omicron (B.1.1.529-like)\", \"variant\": \"nuc:C15240T\", \"POS\": 15239}, {\"lineage\": \"Omicron (B.1.1.529-like)\", \"variant\": \"nuc:C25000T\", \"POS\": 24999}, {\"lineage\": \"Omicron (B.1.1.529-like)\", \"variant\": \"nuc:C27807T\", \"POS\": 27806}, {\"lineage\": \"Omicron (B.1.1.529-like)\", \"variant\": \"nuc:C3037T\", \"POS\": 3036}, {\"lineage\": \"Omicron (B.1.1.529-like)\", \"variant\": \"nuc:T13195C\", \"POS\": 13194}, {\"lineage\": \"Omicron (B.1.1.529-like)\", \"variant\": \"nuc:T5386G\", \"POS\": 5385}, {\"lineage\": \"Omicron (B.1.1.529-like)\", \"variant\": \"orf1a:A2710T\", \"POS\": 8392}, {\"lineage\": \"Omicron (B.1.1.529-like)\", \"variant\": \"orf1a:I3758V\", \"POS\": 11536}, {\"lineage\": \"Omicron (B.1.1.529-like)\", \"variant\": \"orf1a:K856R\", \"POS\": 2830}, {\"lineage\": \"Omicron (B.1.1.529-like)\", \"variant\": \"orf1a:P3395H\", \"POS\": 10447}, {\"lineage\": \"Omicron (B.1.1.529-like)\", \"variant\": \"orf1a:T3255I\", \"POS\": 10027}, {\"lineage\": \"Omicron (B.1.1.529-like)\", \"variant\": \"orf1b:I1566V\", \"POS\": 18162}, {\"lineage\": \"Omicron (B.1.1.529-like)\", \"variant\": \"orf1b:P314L\", \"POS\": 14406}, {\"lineage\": \"Omicron (B.1.1.529-like)\", \"variant\": \"s:A67V\", \"POS\": 21760}, {\"lineage\": \"Omicron (B.1.1.529-like)\", \"variant\": \"s:D614G\", \"POS\": 23401}, {\"lineage\": \"Omicron (B.1.1.529-like)\", \"variant\": \"s:D796Y\", \"POS\": 23947}, {\"lineage\": \"Omicron (B.1.1.529-like)\", \"variant\": \"s:E484A\", \"POS\": 23011}, {\"lineage\": \"Omicron (B.1.1.529-like)\", \"variant\": \"s:G339D\", \"POS\": 22576}, {\"lineage\": \"Omicron (B.1.1.529-like)\", \"variant\": \"s:G446S\", \"POS\": 22897}, {\"lineage\": \"Omicron (B.1.1.529-like)\", \"variant\": \"s:G496S\", \"POS\": 23047}, {\"lineage\": \"Omicron (B.1.1.529-like)\", \"variant\": \"s:H655Y\", \"POS\": 23524}, {\"lineage\": \"Omicron (B.1.1.529-like)\", \"variant\": \"s:K417N\", \"POS\": 22810}, {\"lineage\": \"Omicron (B.1.1.529-like)\", \"variant\": \"s:N440K\", \"POS\": 22879}, {\"lineage\": \"Omicron (B.1.1.529-like)\", \"variant\": \"s:N501Y\", \"POS\": 23062}, {\"lineage\": \"Omicron (B.1.1.529-like)\", \"variant\": \"s:N679K\", \"POS\": 23596}, {\"lineage\": \"Omicron (B.1.1.529-like)\", \"variant\": \"s:N764K\", \"POS\": 23851}, {\"lineage\": \"Omicron (B.1.1.529-like)\", \"variant\": \"s:N856K\", \"POS\": 24127}, {\"lineage\": \"Omicron (B.1.1.529-like)\", \"variant\": \"s:N969K\", \"POS\": 24466}, {\"lineage\": \"Omicron (B.1.1.529-like)\", \"variant\": \"s:P681H\", \"POS\": 23602}, {\"lineage\": \"Omicron (B.1.1.529-like)\", \"variant\": \"s:Q493R\", \"POS\": 23038}, {\"lineage\": \"Omicron (B.1.1.529-like)\", \"variant\": \"s:Q498R\", \"POS\": 23053}, {\"lineage\": \"Omicron (B.1.1.529-like)\", \"variant\": \"s:Q954H\", \"POS\": 24421}, {\"lineage\": \"Omicron (B.1.1.529-like)\", \"variant\": \"s:S371L\", \"POS\": 22672}, {\"lineage\": \"Omicron (B.1.1.529-like)\", \"variant\": \"s:S373P\", \"POS\": 22678}, {\"lineage\": \"Omicron (B.1.1.529-like)\", \"variant\": \"s:S477N\", \"POS\": 22990}, {\"lineage\": \"Omicron (B.1.1.529-like)\", \"variant\": \"s:T478K\", \"POS\": 22993}, {\"lineage\": \"Omicron (B.1.1.529-like)\", \"variant\": \"s:T547K\", \"POS\": 23200}, {\"lineage\": \"Omicron (B.1.1.529-like)\", \"variant\": \"s:T95I\", \"POS\": 21844}, {\"lineage\": \"Omicron (B.1.1.529-like)\", \"variant\": \"s:Y505H\", \"POS\": 23074}, {\"lineage\": \"Probable Omicron (B.1.1.529-like)\", \"variant\": \"e:T9I\", \"POS\": 26268}, {\"lineage\": \"Probable Omicron (B.1.1.529-like)\", \"variant\": \"m:A63T\", \"POS\": 26708}, {\"lineage\": \"Probable Omicron (B.1.1.529-like)\", \"variant\": \"m:D3G\", \"POS\": 26528}, {\"lineage\": \"Probable Omicron (B.1.1.529-like)\", \"variant\": \"m:Q19E\", \"POS\": 26576}, {\"lineage\": \"Probable Omicron (B.1.1.529-like)\", \"variant\": \"n:RG203KR\", \"POS\": 28879}, {\"lineage\": \"Probable Omicron (B.1.1.529-like)\", \"variant\": \"nuc:A27259C\", \"POS\": 27258}, {\"lineage\": \"Probable Omicron (B.1.1.529-like)\", \"variant\": \"nuc:C15240T\", \"POS\": 15239}, {\"lineage\": \"Probable Omicron (B.1.1.529-like)\", \"variant\": \"nuc:C25000T\", \"POS\": 24999}, {\"lineage\": \"Probable Omicron (B.1.1.529-like)\", \"variant\": \"nuc:C27807T\", \"POS\": 27806}, {\"lineage\": \"Probable Omicron (B.1.1.529-like)\", \"variant\": \"nuc:C3037T\", \"POS\": 3036}, {\"lineage\": \"Probable Omicron (B.1.1.529-like)\", \"variant\": \"nuc:T13195C\", \"POS\": 13194}, {\"lineage\": \"Probable Omicron (B.1.1.529-like)\", \"variant\": \"nuc:T5386G\", \"POS\": 5385}, {\"lineage\": \"Probable Omicron (B.1.1.529-like)\", \"variant\": \"orf1a:A2710T\", \"POS\": 8392}, {\"lineage\": \"Probable Omicron (B.1.1.529-like)\", \"variant\": \"orf1a:I3758V\", \"POS\": 11536}, {\"lineage\": \"Probable Omicron (B.1.1.529-like)\", \"variant\": \"orf1a:K856R\", \"POS\": 2830}, {\"lineage\": \"Probable Omicron (B.1.1.529-like)\", \"variant\": \"orf1a:P3395H\", \"POS\": 10447}, {\"lineage\": \"Probable Omicron (B.1.1.529-like)\", \"variant\": \"orf1a:T3255I\", \"POS\": 10027}, {\"lineage\": \"Probable Omicron (B.1.1.529-like)\", \"variant\": \"orf1b:I1566V\", \"POS\": 18162}, {\"lineage\": \"Probable Omicron (B.1.1.529-like)\", \"variant\": \"orf1b:P314L\", \"POS\": 14406}, {\"lineage\": \"Probable Omicron (B.1.1.529-like)\", \"variant\": \"s:A67V\", \"POS\": 21760}, {\"lineage\": \"Probable Omicron (B.1.1.529-like)\", \"variant\": \"s:D614G\", \"POS\": 23401}, {\"lineage\": \"Probable Omicron (B.1.1.529-like)\", \"variant\": \"s:D796Y\", \"POS\": 23947}, {\"lineage\": \"Probable Omicron (B.1.1.529-like)\", \"variant\": \"s:E484A\", \"POS\": 23011}, {\"lineage\": \"Probable Omicron (B.1.1.529-like)\", \"variant\": \"s:G339D\", \"POS\": 22576}, {\"lineage\": \"Probable Omicron (B.1.1.529-like)\", \"variant\": \"s:G446S\", \"POS\": 22897}, {\"lineage\": \"Probable Omicron (B.1.1.529-like)\", \"variant\": \"s:G496S\", \"POS\": 23047}, {\"lineage\": \"Probable Omicron (B.1.1.529-like)\", \"variant\": \"s:H655Y\", \"POS\": 23524}, {\"lineage\": \"Probable Omicron (B.1.1.529-like)\", \"variant\": \"s:K417N\", \"POS\": 22810}, {\"lineage\": \"Probable Omicron (B.1.1.529-like)\", \"variant\": \"s:N440K\", \"POS\": 22879}, {\"lineage\": \"Probable Omicron (B.1.1.529-like)\", \"variant\": \"s:N501Y\", \"POS\": 23062}, {\"lineage\": \"Probable Omicron (B.1.1.529-like)\", \"variant\": \"s:N679K\", \"POS\": 23596}, {\"lineage\": \"Probable Omicron (B.1.1.529-like)\", \"variant\": \"s:N764K\", \"POS\": 23851}, {\"lineage\": \"Probable Omicron (B.1.1.529-like)\", \"variant\": \"s:N856K\", \"POS\": 24127}, {\"lineage\": \"Probable Omicron (B.1.1.529-like)\", \"variant\": \"s:N969K\", \"POS\": 24466}, {\"lineage\": \"Probable Omicron (B.1.1.529-like)\", \"variant\": \"s:P681H\", \"POS\": 23602}, {\"lineage\": \"Probable Omicron (B.1.1.529-like)\", \"variant\": \"s:Q493R\", \"POS\": 23038}, {\"lineage\": \"Probable Omicron (B.1.1.529-like)\", \"variant\": \"s:Q498R\", \"POS\": 23053}, {\"lineage\": \"Probable Omicron (B.1.1.529-like)\", \"variant\": \"s:Q954H\", \"POS\": 24421}, {\"lineage\": \"Probable Omicron (B.1.1.529-like)\", \"variant\": \"s:S371L\", \"POS\": 22672}, {\"lineage\": \"Probable Omicron (B.1.1.529-like)\", \"variant\": \"s:S373P\", \"POS\": 22678}, {\"lineage\": \"Probable Omicron (B.1.1.529-like)\", \"variant\": \"s:S477N\", \"POS\": 22990}, {\"lineage\": \"Probable Omicron (B.1.1.529-like)\", \"variant\": \"s:T478K\", \"POS\": 22993}, {\"lineage\": \"Probable Omicron (B.1.1.529-like)\", \"variant\": \"s:T547K\", \"POS\": 23200}, {\"lineage\": \"Probable Omicron (B.1.1.529-like)\", \"variant\": \"s:T95I\", \"POS\": 21844}, {\"lineage\": \"Probable Omicron (B.1.1.529-like)\", \"variant\": \"s:Y505H\", \"POS\": 23074}, {\"lineage\": \"Theta (P.3-like)\", \"variant\": \"del:21980:9\", \"POS\": 21979}, {\"lineage\": \"Theta (P.3-like)\", \"variant\": \"nsp13:A368V\", \"POS\": 17337}, {\"lineage\": \"Theta (P.3-like)\", \"variant\": \"nsp3:D736G\", \"POS\": 4924}, {\"lineage\": \"Theta (P.3-like)\", \"variant\": \"nsp4:L438P\", \"POS\": 9865}, {\"lineage\": \"Theta (P.3-like)\", \"variant\": \"nsp6:D112E\", \"POS\": 11305}, {\"lineage\": \"Theta (P.3-like)\", \"variant\": \"nsp7:L71F\", \"POS\": 12052}, {\"lineage\": \"Theta (P.3-like)\", \"variant\": \"nuc:C12049T\", \"POS\": 12048}, {\"lineage\": \"Theta (P.3-like)\", \"variant\": \"nuc:C7564A\", \"POS\": 7563}, {\"lineage\": \"Theta (P.3-like)\", \"variant\": \"nuc:T23341C\", \"POS\": 23340}, {\"lineage\": \"Theta (P.3-like)\", \"variant\": \"nuc:T24187A\", \"POS\": 24186}, {\"lineage\": \"Theta (P.3-like)\", \"variant\": \"orf8:K2Q\", \"POS\": 27896}, {\"lineage\": \"Theta (P.3-like)\", \"variant\": \"s:E1092K\", \"POS\": 24835}, {\"lineage\": \"Theta (P.3-like)\", \"variant\": \"s:E484K\", \"POS\": 23011}, {\"lineage\": \"Theta (P.3-like)\", \"variant\": \"s:H1101Y\", \"POS\": 24862}, {\"lineage\": \"Theta (P.3-like)\", \"variant\": \"s:N501Y\", \"POS\": 23062}, {\"lineage\": \"Theta (P.3-like)\", \"variant\": \"s:P681H\", \"POS\": 23602}, {\"lineage\": \"Theta (P.3-like)\", \"variant\": \"s:V1176F\", \"POS\": 25087}, {\"lineage\": \"Zeta (P.2-like)\", \"variant\": \"n:A119S\", \"POS\": 28627}, {\"lineage\": \"Zeta (P.2-like)\", \"variant\": \"n:M234I\", \"POS\": 28972}, {\"lineage\": \"Zeta (P.2-like)\", \"variant\": \"nuc:A12964G\", \"POS\": 12963}, {\"lineage\": \"Zeta (P.2-like)\", \"variant\": \"nuc:C11824T\", \"POS\": 11823}, {\"lineage\": \"Zeta (P.2-like)\", \"variant\": \"nuc:C28253T\", \"POS\": 28252}, {\"lineage\": \"Zeta (P.2-like)\", \"variant\": \"orf1ab:L205V\", \"POS\": 877}, {\"lineage\": \"Zeta (P.2-like)\", \"variant\": \"s:E484K\", \"POS\": 23011}]}}, {\"actions\": true, \"mode\": \"vega-lite\"});\n",
       "</script>"
      ],
      "text/plain": [
       "alt.Chart(...)"
      ]
     },
     "execution_count": 25,
     "metadata": {},
     "output_type": "execute_result"
    }
   ],
   "source": [
    "alt.renderers.set_embed_options(actions=True)\n",
    "\n",
    "alt.Chart(df.groupby(['lineage','variant']).agg({'POS':'min'}).reset_index()).mark_tick(color='green').encode(\n",
    "    x=alt.X(\"POS:Q\",title='Position',axis=alt.Axis(grid=False)),\n",
    "    y=alt.Y(\"lineage:O\",title='Lineage',\n",
    "            axis=alt.Axis(grid=False)),\n",
    "    tooltip=[\n",
    "            alt.Tooltip(\"variant\",title=\"variant\")]\n",
    ").properties(\n",
    "    width=800,\n",
    "    height=400\n",
    ")"
   ]
  },
  {
   "cell_type": "code",
   "execution_count": 26,
   "id": "1ecebc44-df5e-4fad-96f3-c6a76acd45d7",
   "metadata": {},
   "outputs": [],
   "source": [
    "df.to_csv('constellations.csv.gz',index=False,compression='gzip')"
   ]
  },
  {
   "cell_type": "code",
   "execution_count": null,
   "id": "d679fd7a-279b-4922-9550-44c6bd4e5ff6",
   "metadata": {},
   "outputs": [],
   "source": []
  }
 ],
 "metadata": {
  "kernelspec": {
   "display_name": "Python 3 (ipykernel)",
   "language": "python",
   "name": "python3"
  },
  "language_info": {
   "codemirror_mode": {
    "name": "ipython",
    "version": 3
   },
   "file_extension": ".py",
   "mimetype": "text/x-python",
   "name": "python",
   "nbconvert_exporter": "python",
   "pygments_lexer": "ipython3",
   "version": "3.9.7"
  }
 },
 "nbformat": 4,
 "nbformat_minor": 5
}
