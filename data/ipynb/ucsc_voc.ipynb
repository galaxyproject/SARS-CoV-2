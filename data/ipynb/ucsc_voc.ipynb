{
 "cells": [
  {
   "cell_type": "code",
   "execution_count": 1,
   "id": "c6b2f4e1-74a9-4e0d-84cd-33f3b5ef5cdc",
   "metadata": {},
   "outputs": [],
   "source": [
    "import requests\n",
    "import urllib.request, json \n",
    "import pandas as p\n",
    "import altair as alt"
   ]
  },
  {
   "cell_type": "code",
   "execution_count": 2,
   "id": "e81b424f-72e3-4994-951e-4061b20022cb",
   "metadata": {},
   "outputs": [],
   "source": [
    "# Retrieve all tracks from variantMuts group using UCSC API\n",
    "\n",
    "data = {}\n",
    "r = requests.get('https://api.genome.ucsc.edu/list/tracks?genome=wuhCor1').json()\n",
    "for key in r['wuhCor1']['variantMuts']:\n",
    "    # This assumes that all relevant tables beging with \"variant\"\n",
    "    if key.startswith('variant'):\n",
    "        data[key] = requests.get('https://api.genome.ucsc.edu/getData/track?genome=wuhCor1;track={}'.format(key)).json()"
   ]
  },
  {
   "cell_type": "code",
   "execution_count": 3,
   "id": "1effe65e-ff73-4be3-b793-1dc47e92793d",
   "metadata": {},
   "outputs": [
    {
     "name": "stdout",
     "output_type": "stream",
     "text": [
      "variantNucMutsV2_B_1_617_1\n",
      "variantAaMutsV2_B_1_617_1\n",
      "variantNucMutsV2_B_1_526\n",
      "variantAaMutsV2_B_1_526\n",
      "variantNucMutsV2_B_1_525\n",
      "variantAaMutsV2_B_1_525\n",
      "variantNucMutsV2_B_1_429\n",
      "variantAaMutsV2_B_1_429\n",
      "variantNucMutsV2_B_1_621\n",
      "variantAaMutsV2_B_1_621\n",
      "variantNucMutsV2_C_37\n",
      "variantAaMutsV2_C_37\n",
      "variantNucMuts_B_1_1_529\n",
      "variantAaMuts_B_1_1_529\n",
      "variantNucMutsV2_B_1_617_2\n",
      "variantAaMutsV2_B_1_617_2\n",
      "variantNucMutsV2_P_1\n",
      "variantAaMutsV2_P_1\n",
      "variantNucMutsV2_B_1_351\n",
      "variantAaMutsV2_B_1_351\n",
      "variantNucMutsV2_B_1_1_7\n",
      "variantAaMutsV2_B_1_1_7\n"
     ]
    }
   ],
   "source": [
    "for key in data.keys():\n",
    "    print(key)"
   ]
  },
  {
   "cell_type": "code",
   "execution_count": 4,
   "id": "53383d63-3ba1-46f4-8409-9107e2df1ccf",
   "metadata": {},
   "outputs": [],
   "source": [
    "expanded_list = { 'POS':[],'variant':[],'lineage':[] }\n",
    "for strain in data.keys():\n",
    "    for variant in data[strain][strain]:\n",
    "        for i in range(variant['chromStart'],variant['chromEnd']):\n",
    "            expanded_list['POS'].append(i)\n",
    "            expanded_list['variant'].append(variant['name'])\n",
    "            expanded_list['lineage'].append(strain.lstrip('variantNucAaMutsV2_'))"
   ]
  },
  {
   "cell_type": "code",
   "execution_count": 5,
   "id": "1694e183-b790-412c-9283-db5296434917",
   "metadata": {},
   "outputs": [],
   "source": [
    "df = pd.DataFrame.from_dict(expanded_list)"
   ]
  },
  {
   "cell_type": "code",
   "execution_count": 6,
   "id": "12ab0237-7718-47cf-b003-b7d2bdfc3f57",
   "metadata": {},
   "outputs": [
    {
     "data": {
      "text/html": [
       "\n",
       "<div id=\"altair-viz-989e0e75f37849c7a48c539c942edecc\"></div>\n",
       "<script type=\"text/javascript\">\n",
       "  (function(spec, embedOpt){\n",
       "    let outputDiv = document.currentScript.previousElementSibling;\n",
       "    if (outputDiv.id !== \"altair-viz-989e0e75f37849c7a48c539c942edecc\") {\n",
       "      outputDiv = document.getElementById(\"altair-viz-989e0e75f37849c7a48c539c942edecc\");\n",
       "    }\n",
       "    const paths = {\n",
       "      \"vega\": \"https://cdn.jsdelivr.net/npm//vega@5?noext\",\n",
       "      \"vega-lib\": \"https://cdn.jsdelivr.net/npm//vega-lib?noext\",\n",
       "      \"vega-lite\": \"https://cdn.jsdelivr.net/npm//vega-lite@4.8.1?noext\",\n",
       "      \"vega-embed\": \"https://cdn.jsdelivr.net/npm//vega-embed@6?noext\",\n",
       "    };\n",
       "\n",
       "    function loadScript(lib) {\n",
       "      return new Promise(function(resolve, reject) {\n",
       "        var s = document.createElement('script');\n",
       "        s.src = paths[lib];\n",
       "        s.async = true;\n",
       "        s.onload = () => resolve(paths[lib]);\n",
       "        s.onerror = () => reject(`Error loading script: ${paths[lib]}`);\n",
       "        document.getElementsByTagName(\"head\")[0].appendChild(s);\n",
       "      });\n",
       "    }\n",
       "\n",
       "    function showError(err) {\n",
       "      outputDiv.innerHTML = `<div class=\"error\" style=\"color:red;\">${err}</div>`;\n",
       "      throw err;\n",
       "    }\n",
       "\n",
       "    function displayChart(vegaEmbed) {\n",
       "      vegaEmbed(outputDiv, spec, embedOpt)\n",
       "        .catch(err => showError(`Javascript Error: ${err.message}<br>This usually means there's a typo in your chart specification. See the javascript console for the full traceback.`));\n",
       "    }\n",
       "\n",
       "    if(typeof define === \"function\" && define.amd) {\n",
       "      requirejs.config({paths});\n",
       "      require([\"vega-embed\"], displayChart, err => showError(`Error loading script: ${err.message}`));\n",
       "    } else if (typeof vegaEmbed === \"function\") {\n",
       "      displayChart(vegaEmbed);\n",
       "    } else {\n",
       "      loadScript(\"vega\")\n",
       "        .then(() => loadScript(\"vega-lite\"))\n",
       "        .then(() => loadScript(\"vega-embed\"))\n",
       "        .catch(showError)\n",
       "        .then(() => displayChart(vegaEmbed));\n",
       "    }\n",
       "  })({\"config\": {\"view\": {\"continuousWidth\": 400, \"continuousHeight\": 300}}, \"data\": {\"name\": \"data-a912f4b02d38fe55ee4321c9d42eafb4\"}, \"mark\": {\"type\": \"tick\", \"color\": \"green\"}, \"encoding\": {\"tooltip\": [{\"type\": \"nominal\", \"field\": \"variant\", \"title\": \"variant\"}], \"x\": {\"type\": \"quantitative\", \"axis\": {\"grid\": false}, \"field\": \"POS\", \"title\": \"Position\"}, \"y\": {\"type\": \"ordinal\", \"axis\": {\"grid\": false}, \"field\": \"lineage\", \"title\": \"Lineage\"}}, \"height\": 200, \"width\": 800, \"$schema\": \"https://vega.github.io/schema/vega-lite/v4.8.1.json\", \"datasets\": {\"data-a912f4b02d38fe55ee4321c9d42eafb4\": [{\"lineage\": \"B_1_1_529\", \"variant\": \"3CL:P132H\", \"POS\": 10447}, {\"lineage\": \"B_1_1_529\", \"variant\": \"A11537G\", \"POS\": 11536}, {\"lineage\": \"B_1_1_529\", \"variant\": \"A18163G\", \"POS\": 18162}, {\"lineage\": \"B_1_1_529\", \"variant\": \"A23013C\", \"POS\": 23012}, {\"lineage\": \"B_1_1_529\", \"variant\": \"A23040G\", \"POS\": 23039}, {\"lineage\": \"B_1_1_529\", \"variant\": \"A23055G\", \"POS\": 23054}, {\"lineage\": \"B_1_1_529\", \"variant\": \"A23063T\", \"POS\": 23062}, {\"lineage\": \"B_1_1_529\", \"variant\": \"A23403G\", \"POS\": 23402}, {\"lineage\": \"B_1_1_529\", \"variant\": \"A24424T\", \"POS\": 24423}, {\"lineage\": \"B_1_1_529\", \"variant\": \"A26530G\", \"POS\": 26529}, {\"lineage\": \"B_1_1_529\", \"variant\": \"A27259C\", \"POS\": 27258}, {\"lineage\": \"B_1_1_529\", \"variant\": \"A28271T\", \"POS\": 28270}, {\"lineage\": \"B_1_1_529\", \"variant\": \"A2832G\", \"POS\": 2831}, {\"lineage\": \"B_1_1_529\", \"variant\": \"C10029T\", \"POS\": 10028}, {\"lineage\": \"B_1_1_529\", \"variant\": \"C10449A\", \"POS\": 10448}, {\"lineage\": \"B_1_1_529\", \"variant\": \"C14408T\", \"POS\": 14407}, {\"lineage\": \"B_1_1_529\", \"variant\": \"C15240T\", \"POS\": 15239}, {\"lineage\": \"B_1_1_529\", \"variant\": \"C21762T\", \"POS\": 21761}, {\"lineage\": \"B_1_1_529\", \"variant\": \"C21846T\", \"POS\": 21845}, {\"lineage\": \"B_1_1_529\", \"variant\": \"C22674T\", \"POS\": 22673}, {\"lineage\": \"B_1_1_529\", \"variant\": \"C22686T\", \"POS\": 22685}, {\"lineage\": \"B_1_1_529\", \"variant\": \"C22995A\", \"POS\": 22994}, {\"lineage\": \"B_1_1_529\", \"variant\": \"C23202A\", \"POS\": 23201}, {\"lineage\": \"B_1_1_529\", \"variant\": \"C23525T\", \"POS\": 23524}, {\"lineage\": \"B_1_1_529\", \"variant\": \"C23604A\", \"POS\": 23603}, {\"lineage\": \"B_1_1_529\", \"variant\": \"C23854A\", \"POS\": 23853}, {\"lineage\": \"B_1_1_529\", \"variant\": \"C24130A\", \"POS\": 24129}, {\"lineage\": \"B_1_1_529\", \"variant\": \"C241T\", \"POS\": 240}, {\"lineage\": \"B_1_1_529\", \"variant\": \"C24503T\", \"POS\": 24502}, {\"lineage\": \"B_1_1_529\", \"variant\": \"C25000T\", \"POS\": 24999}, {\"lineage\": \"B_1_1_529\", \"variant\": \"C25584T\", \"POS\": 25583}, {\"lineage\": \"B_1_1_529\", \"variant\": \"C26270T\", \"POS\": 26269}, {\"lineage\": \"B_1_1_529\", \"variant\": \"C26577G\", \"POS\": 26576}, {\"lineage\": \"B_1_1_529\", \"variant\": \"C27807T\", \"POS\": 27806}, {\"lineage\": \"B_1_1_529\", \"variant\": \"C28311T\", \"POS\": 28310}, {\"lineage\": \"B_1_1_529\", \"variant\": \"C3037T\", \"POS\": 3036}, {\"lineage\": \"B_1_1_529\", \"variant\": \"E:T9I\", \"POS\": 26268}, {\"lineage\": \"B_1_1_529\", \"variant\": \"ExoN:I42V\", \"POS\": 18162}, {\"lineage\": \"B_1_1_529\", \"variant\": \"G22578A\", \"POS\": 22577}, {\"lineage\": \"B_1_1_529\", \"variant\": \"G22813T\", \"POS\": 22812}, {\"lineage\": \"B_1_1_529\", \"variant\": \"G22898A\", \"POS\": 22897}, {\"lineage\": \"B_1_1_529\", \"variant\": \"G22992A\", \"POS\": 22991}, {\"lineage\": \"B_1_1_529\", \"variant\": \"G23048A\", \"POS\": 23047}, {\"lineage\": \"B_1_1_529\", \"variant\": \"G23948T\", \"POS\": 23947}, {\"lineage\": \"B_1_1_529\", \"variant\": \"G26709A\", \"POS\": 26708}, {\"lineage\": \"B_1_1_529\", \"variant\": \"G28881A\", \"POS\": 28880}, {\"lineage\": \"B_1_1_529\", \"variant\": \"G28882A\", \"POS\": 28881}, {\"lineage\": \"B_1_1_529\", \"variant\": \"G28883C\", \"POS\": 28882}, {\"lineage\": \"B_1_1_529\", \"variant\": \"G8393A\", \"POS\": 8392}, {\"lineage\": \"B_1_1_529\", \"variant\": \"M:A63T\", \"POS\": 26708}, {\"lineage\": \"B_1_1_529\", \"variant\": \"M:D3G\", \"POS\": 26528}, {\"lineage\": \"B_1_1_529\", \"variant\": \"M:Q19E\", \"POS\": 26576}, {\"lineage\": \"B_1_1_529\", \"variant\": \"N:G204R\", \"POS\": 28882}, {\"lineage\": \"B_1_1_529\", \"variant\": \"N:P13L\", \"POS\": 28309}, {\"lineage\": \"B_1_1_529\", \"variant\": \"N:R203K\", \"POS\": 28879}, {\"lineage\": \"B_1_1_529\", \"variant\": \"N:del_28362\", \"POS\": 28361}, {\"lineage\": \"B_1_1_529\", \"variant\": \"RdRp:P323L\", \"POS\": 14406}, {\"lineage\": \"B_1_1_529\", \"variant\": \"S:A67V\", \"POS\": 21760}, {\"lineage\": \"B_1_1_529\", \"variant\": \"S:D614G\", \"POS\": 23401}, {\"lineage\": \"B_1_1_529\", \"variant\": \"S:D796Y\", \"POS\": 23947}, {\"lineage\": \"B_1_1_529\", \"variant\": \"S:E484A\", \"POS\": 23011}, {\"lineage\": \"B_1_1_529\", \"variant\": \"S:G339D\", \"POS\": 22576}, {\"lineage\": \"B_1_1_529\", \"variant\": \"S:G446S\", \"POS\": 22897}, {\"lineage\": \"B_1_1_529\", \"variant\": \"S:G496S\", \"POS\": 23047}, {\"lineage\": \"B_1_1_529\", \"variant\": \"S:H655Y\", \"POS\": 23524}, {\"lineage\": \"B_1_1_529\", \"variant\": \"S:K417N\", \"POS\": 22810}, {\"lineage\": \"B_1_1_529\", \"variant\": \"S:L981F\", \"POS\": 24502}, {\"lineage\": \"B_1_1_529\", \"variant\": \"S:N440K\", \"POS\": 22879}, {\"lineage\": \"B_1_1_529\", \"variant\": \"S:N501Y\", \"POS\": 23062}, {\"lineage\": \"B_1_1_529\", \"variant\": \"S:N679K\", \"POS\": 23596}, {\"lineage\": \"B_1_1_529\", \"variant\": \"S:N764K\", \"POS\": 23851}, {\"lineage\": \"B_1_1_529\", \"variant\": \"S:N856K\", \"POS\": 24127}, {\"lineage\": \"B_1_1_529\", \"variant\": \"S:N969K\", \"POS\": 24466}, {\"lineage\": \"B_1_1_529\", \"variant\": \"S:P681H\", \"POS\": 23602}, {\"lineage\": \"B_1_1_529\", \"variant\": \"S:Q493R\", \"POS\": 23038}, {\"lineage\": \"B_1_1_529\", \"variant\": \"S:Q498R\", \"POS\": 23053}, {\"lineage\": \"B_1_1_529\", \"variant\": \"S:Q954H\", \"POS\": 24421}, {\"lineage\": \"B_1_1_529\", \"variant\": \"S:S371L\", \"POS\": 22672}, {\"lineage\": \"B_1_1_529\", \"variant\": \"S:S373P\", \"POS\": 22678}, {\"lineage\": \"B_1_1_529\", \"variant\": \"S:S375F\", \"POS\": 22684}, {\"lineage\": \"B_1_1_529\", \"variant\": \"S:S477N\", \"POS\": 22990}, {\"lineage\": \"B_1_1_529\", \"variant\": \"S:T478K\", \"POS\": 22993}, {\"lineage\": \"B_1_1_529\", \"variant\": \"S:T547K\", \"POS\": 23200}, {\"lineage\": \"B_1_1_529\", \"variant\": \"S:T95I\", \"POS\": 21844}, {\"lineage\": \"B_1_1_529\", \"variant\": \"S:Y505H\", \"POS\": 23074}, {\"lineage\": \"B_1_1_529\", \"variant\": \"S:del_21765\", \"POS\": 21764}, {\"lineage\": \"B_1_1_529\", \"variant\": \"S:del_21987\", \"POS\": 21986}, {\"lineage\": \"B_1_1_529\", \"variant\": \"S:del_22194\", \"POS\": 22193}, {\"lineage\": \"B_1_1_529\", \"variant\": \"S:ins_22205\", \"POS\": 22204}, {\"lineage\": \"B_1_1_529\", \"variant\": \"T13195C\", \"POS\": 13194}, {\"lineage\": \"B_1_1_529\", \"variant\": \"T22673C\", \"POS\": 22672}, {\"lineage\": \"B_1_1_529\", \"variant\": \"T22679C\", \"POS\": 22678}, {\"lineage\": \"B_1_1_529\", \"variant\": \"T22882G\", \"POS\": 22881}, {\"lineage\": \"B_1_1_529\", \"variant\": \"T23075C\", \"POS\": 23074}, {\"lineage\": \"B_1_1_529\", \"variant\": \"T23599G\", \"POS\": 23598}, {\"lineage\": \"B_1_1_529\", \"variant\": \"T24469A\", \"POS\": 24468}, {\"lineage\": \"B_1_1_529\", \"variant\": \"T5386G\", \"POS\": 5385}, {\"lineage\": \"B_1_1_529\", \"variant\": \"del_11283\", \"POS\": 11282}, {\"lineage\": \"B_1_1_529\", \"variant\": \"del_21765\", \"POS\": 21764}, {\"lineage\": \"B_1_1_529\", \"variant\": \"del_21987\", \"POS\": 21986}, {\"lineage\": \"B_1_1_529\", \"variant\": \"del_22194\", \"POS\": 22193}, {\"lineage\": \"B_1_1_529\", \"variant\": \"del_28362\", \"POS\": 28361}, {\"lineage\": \"B_1_1_529\", \"variant\": \"del_6513\", \"POS\": 6512}, {\"lineage\": \"B_1_1_529\", \"variant\": \"ins_22205\", \"POS\": 22204}, {\"lineage\": \"B_1_1_529\", \"variant\": \"nsp3:A1892T\", \"POS\": 8392}, {\"lineage\": \"B_1_1_529\", \"variant\": \"nsp3:K38R\", \"POS\": 2830}, {\"lineage\": \"B_1_1_529\", \"variant\": \"nsp3:del_6513\", \"POS\": 6512}, {\"lineage\": \"B_1_1_529\", \"variant\": \"nsp4:T492I\", \"POS\": 10027}, {\"lineage\": \"B_1_1_529\", \"variant\": \"nsp6:I189V\", \"POS\": 11536}, {\"lineage\": \"B_1_1_529\", \"variant\": \"nsp6:del_11283\", \"POS\": 11282}, {\"lineage\": \"B_1_1_7\", \"variant\": \"A23063T\", \"POS\": 23062}, {\"lineage\": \"B_1_1_7\", \"variant\": \"A23403G\", \"POS\": 23402}, {\"lineage\": \"B_1_1_7\", \"variant\": \"A28111G\", \"POS\": 28110}, {\"lineage\": \"B_1_1_7\", \"variant\": \"A28281T\", \"POS\": 28280}, {\"lineage\": \"B_1_1_7\", \"variant\": \"A570D\", \"POS\": 23269}, {\"lineage\": \"B_1_1_7\", \"variant\": \"A890D\", \"POS\": 5386}, {\"lineage\": \"B_1_1_7\", \"variant\": \"C14408T\", \"POS\": 14407}, {\"lineage\": \"B_1_1_7\", \"variant\": \"C14676T\", \"POS\": 14675}, {\"lineage\": \"B_1_1_7\", \"variant\": \"C15279T\", \"POS\": 15278}, {\"lineage\": \"B_1_1_7\", \"variant\": \"C23271A\", \"POS\": 23270}, {\"lineage\": \"B_1_1_7\", \"variant\": \"C23604A\", \"POS\": 23603}, {\"lineage\": \"B_1_1_7\", \"variant\": \"C23709T\", \"POS\": 23708}, {\"lineage\": \"B_1_1_7\", \"variant\": \"C27972T\", \"POS\": 27971}, {\"lineage\": \"B_1_1_7\", \"variant\": \"C28977T\", \"POS\": 28976}, {\"lineage\": \"B_1_1_7\", \"variant\": \"C3037T\", \"POS\": 3036}, {\"lineage\": \"B_1_1_7\", \"variant\": \"C3267T\", \"POS\": 3266}, {\"lineage\": \"B_1_1_7\", \"variant\": \"C5388A\", \"POS\": 5387}, {\"lineage\": \"B_1_1_7\", \"variant\": \"C5986T\", \"POS\": 5985}, {\"lineage\": \"B_1_1_7\", \"variant\": \"C913T\", \"POS\": 912}, {\"lineage\": \"B_1_1_7\", \"variant\": \"D1118H\", \"POS\": 24913}, {\"lineage\": \"B_1_1_7\", \"variant\": \"D3E\", \"POS\": 28279}, {\"lineage\": \"B_1_1_7\", \"variant\": \"D3H\", \"POS\": 28279}, {\"lineage\": \"B_1_1_7\", \"variant\": \"D3V\", \"POS\": 28279}, {\"lineage\": \"B_1_1_7\", \"variant\": \"D614G\", \"POS\": 23401}, {\"lineage\": \"B_1_1_7\", \"variant\": \"G204R\", \"POS\": 28882}, {\"lineage\": \"B_1_1_7\", \"variant\": \"G24914C\", \"POS\": 24913}, {\"lineage\": \"B_1_1_7\", \"variant\": \"G28048T\", \"POS\": 28047}, {\"lineage\": \"B_1_1_7\", \"variant\": \"G28280C\", \"POS\": 28279}, {\"lineage\": \"B_1_1_7\", \"variant\": \"G28881A\", \"POS\": 28880}, {\"lineage\": \"B_1_1_7\", \"variant\": \"G28882A\", \"POS\": 28881}, {\"lineage\": \"B_1_1_7\", \"variant\": \"G28883C\", \"POS\": 28882}, {\"lineage\": \"B_1_1_7\", \"variant\": \"I1412T\", \"POS\": 6952}, {\"lineage\": \"B_1_1_7\", \"variant\": \"N501Y\", \"POS\": 23062}, {\"lineage\": \"B_1_1_7\", \"variant\": \"P323L\", \"POS\": 14406}, {\"lineage\": \"B_1_1_7\", \"variant\": \"P681H\", \"POS\": 23602}, {\"lineage\": \"B_1_1_7\", \"variant\": \"Q27stop\", \"POS\": 27971}, {\"lineage\": \"B_1_1_7\", \"variant\": \"R203K\", \"POS\": 28879}, {\"lineage\": \"B_1_1_7\", \"variant\": \"R52I\", \"POS\": 28046}, {\"lineage\": \"B_1_1_7\", \"variant\": \"S235F\", \"POS\": 28975}, {\"lineage\": \"B_1_1_7\", \"variant\": \"S982A\", \"POS\": 24505}, {\"lineage\": \"B_1_1_7\", \"variant\": \"T16176C\", \"POS\": 16175}, {\"lineage\": \"B_1_1_7\", \"variant\": \"T183I\", \"POS\": 3265}, {\"lineage\": \"B_1_1_7\", \"variant\": \"T24506G\", \"POS\": 24505}, {\"lineage\": \"B_1_1_7\", \"variant\": \"T28282A\", \"POS\": 28281}, {\"lineage\": \"B_1_1_7\", \"variant\": \"T6954C\", \"POS\": 6953}, {\"lineage\": \"B_1_1_7\", \"variant\": \"T716I\", \"POS\": 23707}, {\"lineage\": \"B_1_1_7\", \"variant\": \"Y73C\", \"POS\": 28109}, {\"lineage\": \"B_1_1_7\", \"variant\": \"del_11288\", \"POS\": 11287}, {\"lineage\": \"B_1_1_7\", \"variant\": \"del_21765\", \"POS\": 21764}, {\"lineage\": \"B_1_1_7\", \"variant\": \"del_21991\", \"POS\": 21990}, {\"lineage\": \"B_1_1_7\", \"variant\": \"del_28271\", \"POS\": 28270}, {\"lineage\": \"B_1_351\", \"variant\": \"A10323G\", \"POS\": 10322}, {\"lineage\": \"B_1_351\", \"variant\": \"A21801C\", \"POS\": 21800}, {\"lineage\": \"B_1_351\", \"variant\": \"A23063T\", \"POS\": 23062}, {\"lineage\": \"B_1_351\", \"variant\": \"A23403G\", \"POS\": 23402}, {\"lineage\": \"B_1_351\", \"variant\": \"A701V\", \"POS\": 23662}, {\"lineage\": \"B_1_351\", \"variant\": \"C1059T\", \"POS\": 1058}, {\"lineage\": \"B_1_351\", \"variant\": \"C14408T\", \"POS\": 14407}, {\"lineage\": \"B_1_351\", \"variant\": \"C23664T\", \"POS\": 23663}, {\"lineage\": \"B_1_351\", \"variant\": \"C241T\", \"POS\": 240}, {\"lineage\": \"B_1_351\", \"variant\": \"C26456T\", \"POS\": 26455}, {\"lineage\": \"B_1_351\", \"variant\": \"C28253T\", \"POS\": 28252}, {\"lineage\": \"B_1_351\", \"variant\": \"C28887T\", \"POS\": 28886}, {\"lineage\": \"B_1_351\", \"variant\": \"C3037T\", \"POS\": 3036}, {\"lineage\": \"B_1_351\", \"variant\": \"D614G\", \"POS\": 23401}, {\"lineage\": \"B_1_351\", \"variant\": \"D80A\", \"POS\": 21799}, {\"lineage\": \"B_1_351\", \"variant\": \"E484K\", \"POS\": 23011}, {\"lineage\": \"B_1_351\", \"variant\": \"G174T\", \"POS\": 173}, {\"lineage\": \"B_1_351\", \"variant\": \"G22813T\", \"POS\": 22812}, {\"lineage\": \"B_1_351\", \"variant\": \"G23012A\", \"POS\": 23011}, {\"lineage\": \"B_1_351\", \"variant\": \"G25563T\", \"POS\": 25562}, {\"lineage\": \"B_1_351\", \"variant\": \"G5230T\", \"POS\": 5229}, {\"lineage\": \"B_1_351\", \"variant\": \"K417N\", \"POS\": 22810}, {\"lineage\": \"B_1_351\", \"variant\": \"K837N\", \"POS\": 5227}, {\"lineage\": \"B_1_351\", \"variant\": \"K90R\", \"POS\": 10321}, {\"lineage\": \"B_1_351\", \"variant\": \"N501Y\", \"POS\": 23062}, {\"lineage\": \"B_1_351\", \"variant\": \"P323L\", \"POS\": 14406}, {\"lineage\": \"B_1_351\", \"variant\": \"P71L\", \"POS\": 26454}, {\"lineage\": \"B_1_351\", \"variant\": \"Q57H\", \"POS\": 25560}, {\"lineage\": \"B_1_351\", \"variant\": \"T205I\", \"POS\": 28885}, {\"lineage\": \"B_1_351\", \"variant\": \"T85I\", \"POS\": 1057}, {\"lineage\": \"B_1_351\", \"variant\": \"del_11288\", \"POS\": 11287}, {\"lineage\": \"B_1_351\", \"variant\": \"del_22281\", \"POS\": 22280}, {\"lineage\": \"B_1_429\", \"variant\": \"A23403G\", \"POS\": 23402}, {\"lineage\": \"B_1_429\", \"variant\": \"A28272T\", \"POS\": 28271}, {\"lineage\": \"B_1_429\", \"variant\": \"C1059T\", \"POS\": 1058}, {\"lineage\": \"B_1_429\", \"variant\": \"C14408T\", \"POS\": 14407}, {\"lineage\": \"B_1_429\", \"variant\": \"C241T\", \"POS\": 240}, {\"lineage\": \"B_1_429\", \"variant\": \"C26681T\", \"POS\": 26680}, {\"lineage\": \"B_1_429\", \"variant\": \"C28887T\", \"POS\": 28886}, {\"lineage\": \"B_1_429\", \"variant\": \"C3037T\", \"POS\": 3036}, {\"lineage\": \"B_1_429\", \"variant\": \"D260Y\", \"POS\": 17013}, {\"lineage\": \"B_1_429\", \"variant\": \"D614G\", \"POS\": 23401}, {\"lineage\": \"B_1_429\", \"variant\": \"G17014T\", \"POS\": 17013}, {\"lineage\": \"B_1_429\", \"variant\": \"G21600T\", \"POS\": 21599}, {\"lineage\": \"B_1_429\", \"variant\": \"G22018T\", \"POS\": 22017}, {\"lineage\": \"B_1_429\", \"variant\": \"G25563T\", \"POS\": 25562}, {\"lineage\": \"B_1_429\", \"variant\": \"L452R\", \"POS\": 22915}, {\"lineage\": \"B_1_429\", \"variant\": \"P323L\", \"POS\": 14406}, {\"lineage\": \"B_1_429\", \"variant\": \"Q57H\", \"POS\": 25560}, {\"lineage\": \"B_1_429\", \"variant\": \"S13I\", \"POS\": 21598}, {\"lineage\": \"B_1_429\", \"variant\": \"T205I\", \"POS\": 28885}, {\"lineage\": \"B_1_429\", \"variant\": \"T22917G\", \"POS\": 22916}, {\"lineage\": \"B_1_429\", \"variant\": \"T85I\", \"POS\": 1057}, {\"lineage\": \"B_1_429\", \"variant\": \"W152C\", \"POS\": 22015}, {\"lineage\": \"B_1_525\", \"variant\": \"A12G\", \"POS\": 28306}, {\"lineage\": \"B_1_525\", \"variant\": \"A1807G\", \"POS\": 1806}, {\"lineage\": \"B_1_525\", \"variant\": \"A20724G\", \"POS\": 20723}, {\"lineage\": \"B_1_525\", \"variant\": \"A21717G\", \"POS\": 21716}, {\"lineage\": \"B_1_525\", \"variant\": \"A23403G\", \"POS\": 23402}, {\"lineage\": \"B_1_525\", \"variant\": \"A28699G\", \"POS\": 28698}, {\"lineage\": \"B_1_525\", \"variant\": \"A67V\", \"POS\": 21760}, {\"lineage\": \"B_1_525\", \"variant\": \"C14407T\", \"POS\": 14406}, {\"lineage\": \"B_1_525\", \"variant\": \"C14408T\", \"POS\": 14407}, {\"lineage\": \"B_1_525\", \"variant\": \"C1498T\", \"POS\": 1497}, {\"lineage\": \"B_1_525\", \"variant\": \"C18171T\", \"POS\": 18170}, {\"lineage\": \"B_1_525\", \"variant\": \"C21762T\", \"POS\": 21761}, {\"lineage\": \"B_1_525\", \"variant\": \"C241T\", \"POS\": 240}, {\"lineage\": \"B_1_525\", \"variant\": \"C24748T\", \"POS\": 24747}, {\"lineage\": \"B_1_525\", \"variant\": \"C26305T\", \"POS\": 26304}, {\"lineage\": \"B_1_525\", \"variant\": \"C28308G\", \"POS\": 28307}, {\"lineage\": \"B_1_525\", \"variant\": \"C28887T\", \"POS\": 28886}, {\"lineage\": \"B_1_525\", \"variant\": \"C3037T\", \"POS\": 3036}, {\"lineage\": \"B_1_525\", \"variant\": \"C6285T\", \"POS\": 6284}, {\"lineage\": \"B_1_525\", \"variant\": \"C9565T\", \"POS\": 9564}, {\"lineage\": \"B_1_525\", \"variant\": \"D614G\", \"POS\": 23401}, {\"lineage\": \"B_1_525\", \"variant\": \"E484K\", \"POS\": 23011}, {\"lineage\": \"B_1_525\", \"variant\": \"F888L\", \"POS\": 24223}, {\"lineage\": \"B_1_525\", \"variant\": \"G23012A\", \"POS\": 23011}, {\"lineage\": \"B_1_525\", \"variant\": \"G23593C\", \"POS\": 23592}, {\"lineage\": \"B_1_525\", \"variant\": \"G2659A\", \"POS\": 2658}, {\"lineage\": \"B_1_525\", \"variant\": \"G29543T\", \"POS\": 29542}, {\"lineage\": \"B_1_525\", \"variant\": \"I82T\", \"POS\": 26765}, {\"lineage\": \"B_1_525\", \"variant\": \"L21F\", \"POS\": 26304}, {\"lineage\": \"B_1_525\", \"variant\": \"P323L\", \"POS\": 14406}, {\"lineage\": \"B_1_525\", \"variant\": \"P323S\", \"POS\": 14406}, {\"lineage\": \"B_1_525\", \"variant\": \"Q52R\", \"POS\": 21715}, {\"lineage\": \"B_1_525\", \"variant\": \"Q677H\", \"POS\": 23590}, {\"lineage\": \"B_1_525\", \"variant\": \"T1189I\", \"POS\": 6283}, {\"lineage\": \"B_1_525\", \"variant\": \"T205I\", \"POS\": 28885}, {\"lineage\": \"B_1_525\", \"variant\": \"T24224C\", \"POS\": 24223}, {\"lineage\": \"B_1_525\", \"variant\": \"T26767C\", \"POS\": 26766}, {\"lineage\": \"B_1_525\", \"variant\": \"T8593C\", \"POS\": 8592}, {\"lineage\": \"B_1_525\", \"variant\": \"del_11288\", \"POS\": 11287}, {\"lineage\": \"B_1_525\", \"variant\": \"del_21765\", \"POS\": 21764}, {\"lineage\": \"B_1_525\", \"variant\": \"del_21991\", \"POS\": 21990}, {\"lineage\": \"B_1_525\", \"variant\": \"del_27205\", \"POS\": 27204}, {\"lineage\": \"B_1_525\", \"variant\": \"del_28278\", \"POS\": 28277}, {\"lineage\": \"B_1_526\", \"variant\": \"A16500C\", \"POS\": 16499}, {\"lineage\": \"B_1_526\", \"variant\": \"A20262G\", \"POS\": 20261}, {\"lineage\": \"B_1_526\", \"variant\": \"A22320G\", \"POS\": 22319}, {\"lineage\": \"B_1_526\", \"variant\": \"A23403G\", \"POS\": 23402}, {\"lineage\": \"B_1_526\", \"variant\": \"C1059T\", \"POS\": 1058}, {\"lineage\": \"B_1_526\", \"variant\": \"C14408T\", \"POS\": 14407}, {\"lineage\": \"B_1_526\", \"variant\": \"C21575T\", \"POS\": 21574}, {\"lineage\": \"B_1_526\", \"variant\": \"C21846T\", \"POS\": 21845}, {\"lineage\": \"B_1_526\", \"variant\": \"C241T\", \"POS\": 240}, {\"lineage\": \"B_1_526\", \"variant\": \"C25517T\", \"POS\": 25516}, {\"lineage\": \"B_1_526\", \"variant\": \"C27925T\", \"POS\": 27924}, {\"lineage\": \"B_1_526\", \"variant\": \"C3037T\", \"POS\": 3036}, {\"lineage\": \"B_1_526\", \"variant\": \"D253G\", \"POS\": 22318}, {\"lineage\": \"B_1_526\", \"variant\": \"D614G\", \"POS\": 23401}, {\"lineage\": \"B_1_526\", \"variant\": \"G25563T\", \"POS\": 25562}, {\"lineage\": \"B_1_526\", \"variant\": \"L438P\", \"POS\": 9865}, {\"lineage\": \"B_1_526\", \"variant\": \"L5F\", \"POS\": 21574}, {\"lineage\": \"B_1_526\", \"variant\": \"P323L\", \"POS\": 14406}, {\"lineage\": \"B_1_526\", \"variant\": \"P42L\", \"POS\": 25515}, {\"lineage\": \"B_1_526\", \"variant\": \"Q57H\", \"POS\": 25560}, {\"lineage\": \"B_1_526\", \"variant\": \"Q88H\", \"POS\": 16497}, {\"lineage\": \"B_1_526\", \"variant\": \"T11I\", \"POS\": 27923}, {\"lineage\": \"B_1_526\", \"variant\": \"T85I\", \"POS\": 1057}, {\"lineage\": \"B_1_526\", \"variant\": \"T95I\", \"POS\": 21844}, {\"lineage\": \"B_1_526\", \"variant\": \"T9867C\", \"POS\": 9866}, {\"lineage\": \"B_1_526\", \"variant\": \"del_11288\", \"POS\": 11287}, {\"lineage\": \"B_1_526\", \"variant\": \"del_28271\", \"POS\": 28270}, {\"lineage\": \"B_1_617_1\", \"variant\": \"A11201G\", \"POS\": 11200}, {\"lineage\": \"B_1_617_1\", \"variant\": \"A20396G\", \"POS\": 20395}, {\"lineage\": \"B_1_617_1\", \"variant\": \"A23403G\", \"POS\": 23402}, {\"lineage\": \"B_1_617_1\", \"variant\": \"C14408T\", \"POS\": 14407}, {\"lineage\": \"B_1_617_1\", \"variant\": \"C23604G\", \"POS\": 23603}, {\"lineage\": \"B_1_617_1\", \"variant\": \"C241T\", \"POS\": 240}, {\"lineage\": \"B_1_617_1\", \"variant\": \"C25469T\", \"POS\": 25468}, {\"lineage\": \"B_1_617_1\", \"variant\": \"C3037T\", \"POS\": 3036}, {\"lineage\": \"B_1_617_1\", \"variant\": \"C3457T\", \"POS\": 3456}, {\"lineage\": \"B_1_617_1\", \"variant\": \"C4965T\", \"POS\": 4964}, {\"lineage\": \"B_1_617_1\", \"variant\": \"D377Y\", \"POS\": 29401}, {\"lineage\": \"B_1_617_1\", \"variant\": \"D614G\", \"POS\": 23401}, {\"lineage\": \"B_1_617_1\", \"variant\": \"E484Q\", \"POS\": 23011}, {\"lineage\": \"B_1_617_1\", \"variant\": \"G17523T\", \"POS\": 17522}, {\"lineage\": \"B_1_617_1\", \"variant\": \"G210T\", \"POS\": 209}, {\"lineage\": \"B_1_617_1\", \"variant\": \"G23012C\", \"POS\": 23011}, {\"lineage\": \"B_1_617_1\", \"variant\": \"G28881T\", \"POS\": 28880}, {\"lineage\": \"B_1_617_1\", \"variant\": \"G29402T\", \"POS\": 29401}, {\"lineage\": \"B_1_617_1\", \"variant\": \"G29742T\", \"POS\": 29741}, {\"lineage\": \"B_1_617_1\", \"variant\": \"K259R\", \"POS\": 20394}, {\"lineage\": \"B_1_617_1\", \"variant\": \"L452R\", \"POS\": 22915}, {\"lineage\": \"B_1_617_1\", \"variant\": \"M429I\", \"POS\": 17520}, {\"lineage\": \"B_1_617_1\", \"variant\": \"P323L\", \"POS\": 14406}, {\"lineage\": \"B_1_617_1\", \"variant\": \"P681R\", \"POS\": 23602}, {\"lineage\": \"B_1_617_1\", \"variant\": \"R203M\", \"POS\": 28879}, {\"lineage\": \"B_1_617_1\", \"variant\": \"S26L\", \"POS\": 25467}, {\"lineage\": \"B_1_617_1\", \"variant\": \"T22917G\", \"POS\": 22916}, {\"lineage\": \"B_1_617_1\", \"variant\": \"T27638C\", \"POS\": 27637}, {\"lineage\": \"B_1_617_1\", \"variant\": \"T749I\", \"POS\": 4963}, {\"lineage\": \"B_1_617_1\", \"variant\": \"T77A\", \"POS\": 11200}, {\"lineage\": \"B_1_617_1\", \"variant\": \"V82A\", \"POS\": 27636}, {\"lineage\": \"B_1_617_2\", \"variant\": \"A23403G\", \"POS\": 23402}, {\"lineage\": \"B_1_617_2\", \"variant\": \"C14408T\", \"POS\": 14407}, {\"lineage\": \"B_1_617_2\", \"variant\": \"C21618G\", \"POS\": 21617}, {\"lineage\": \"B_1_617_2\", \"variant\": \"C22995A\", \"POS\": 22994}, {\"lineage\": \"B_1_617_2\", \"variant\": \"C23604G\", \"POS\": 23603}, {\"lineage\": \"B_1_617_2\", \"variant\": \"C241T\", \"POS\": 240}, {\"lineage\": \"B_1_617_2\", \"variant\": \"C25469T\", \"POS\": 25468}, {\"lineage\": \"B_1_617_2\", \"variant\": \"C27752T\", \"POS\": 27751}, {\"lineage\": \"B_1_617_2\", \"variant\": \"C3037T\", \"POS\": 3036}, {\"lineage\": \"B_1_617_2\", \"variant\": \"D377Y\", \"POS\": 29401}, {\"lineage\": \"B_1_617_2\", \"variant\": \"D614G\", \"POS\": 23401}, {\"lineage\": \"B_1_617_2\", \"variant\": \"G210T\", \"POS\": 209}, {\"lineage\": \"B_1_617_2\", \"variant\": \"G28881T\", \"POS\": 28880}, {\"lineage\": \"B_1_617_2\", \"variant\": \"G29402T\", \"POS\": 29401}, {\"lineage\": \"B_1_617_2\", \"variant\": \"G29742T\", \"POS\": 29741}, {\"lineage\": \"B_1_617_2\", \"variant\": \"I82T\", \"POS\": 26765}, {\"lineage\": \"B_1_617_2\", \"variant\": \"L452R\", \"POS\": 22915}, {\"lineage\": \"B_1_617_2\", \"variant\": \"P323L\", \"POS\": 14406}, {\"lineage\": \"B_1_617_2\", \"variant\": \"P681R\", \"POS\": 23602}, {\"lineage\": \"B_1_617_2\", \"variant\": \"R203M\", \"POS\": 28879}, {\"lineage\": \"B_1_617_2\", \"variant\": \"S26L\", \"POS\": 25467}, {\"lineage\": \"B_1_617_2\", \"variant\": \"T120I\", \"POS\": 27750}, {\"lineage\": \"B_1_617_2\", \"variant\": \"T19R\", \"POS\": 21616}, {\"lineage\": \"B_1_617_2\", \"variant\": \"T22917G\", \"POS\": 22916}, {\"lineage\": \"B_1_617_2\", \"variant\": \"T26767C\", \"POS\": 26766}, {\"lineage\": \"B_1_617_2\", \"variant\": \"T27638C\", \"POS\": 27637}, {\"lineage\": \"B_1_617_2\", \"variant\": \"T478K\", \"POS\": 22993}, {\"lineage\": \"B_1_617_2\", \"variant\": \"V82A\", \"POS\": 27636}, {\"lineage\": \"B_1_621\", \"variant\": \"A11451G\", \"POS\": 11450}, {\"lineage\": \"B_1_621\", \"variant\": \"A13057T\", \"POS\": 13056}, {\"lineage\": \"B_1_621\", \"variant\": \"A23063T\", \"POS\": 23062}, {\"lineage\": \"B_1_621\", \"variant\": \"A23403G\", \"POS\": 23402}, {\"lineage\": \"B_1_621\", \"variant\": \"A26492T\", \"POS\": 26491}, {\"lineage\": \"B_1_621\", \"variant\": \"A28272T\", \"POS\": 28271}, {\"lineage\": \"B_1_621\", \"variant\": \"A3428G\", \"POS\": 3427}, {\"lineage\": \"B_1_621\", \"variant\": \"C10029T\", \"POS\": 10028}, {\"lineage\": \"B_1_621\", \"variant\": \"C14408T\", \"POS\": 14407}, {\"lineage\": \"B_1_621\", \"variant\": \"C17491T\", \"POS\": 17490}, {\"lineage\": \"B_1_621\", \"variant\": \"C18877T\", \"POS\": 18876}, {\"lineage\": \"B_1_621\", \"variant\": \"C20148T\", \"POS\": 20147}, {\"lineage\": \"B_1_621\", \"variant\": \"C21846T\", \"POS\": 21845}, {\"lineage\": \"B_1_621\", \"variant\": \"C23604A\", \"POS\": 23603}, {\"lineage\": \"B_1_621\", \"variant\": \"C241T\", \"POS\": 240}, {\"lineage\": \"B_1_621\", \"variant\": \"C27925A\", \"POS\": 27924}, {\"lineage\": \"B_1_621\", \"variant\": \"C28005T\", \"POS\": 28004}, {\"lineage\": \"B_1_621\", \"variant\": \"C28887T\", \"POS\": 28886}, {\"lineage\": \"B_1_621\", \"variant\": \"C3037T\", \"POS\": 3036}, {\"lineage\": \"B_1_621\", \"variant\": \"C4878T\", \"POS\": 4877}, {\"lineage\": \"B_1_621\", \"variant\": \"C6037T\", \"POS\": 6036}, {\"lineage\": \"B_1_621\", \"variant\": \"D614G\", \"POS\": 23401}, {\"lineage\": \"B_1_621\", \"variant\": \"E484K\", \"POS\": 23011}, {\"lineage\": \"B_1_621\", \"variant\": \"G22599A\", \"POS\": 22598}, {\"lineage\": \"B_1_621\", \"variant\": \"G23012A\", \"POS\": 23011}, {\"lineage\": \"B_1_621\", \"variant\": \"G25563T\", \"POS\": 25562}, {\"lineage\": \"B_1_621\", \"variant\": \"N501Y\", \"POS\": 23062}, {\"lineage\": \"B_1_621\", \"variant\": \"P323L\", \"POS\": 14406}, {\"lineage\": \"B_1_621\", \"variant\": \"P38S\", \"POS\": 28004}, {\"lineage\": \"B_1_621\", \"variant\": \"P419S\", \"POS\": 17490}, {\"lineage\": \"B_1_621\", \"variant\": \"P681H\", \"POS\": 23602}, {\"lineage\": \"B_1_621\", \"variant\": \"Q160R\", \"POS\": 11449}, {\"lineage\": \"B_1_621\", \"variant\": \"Q57H\", \"POS\": 25560}, {\"lineage\": \"B_1_621\", \"variant\": \"R346K\", \"POS\": 22597}, {\"lineage\": \"B_1_621\", \"variant\": \"T11K\", \"POS\": 27923}, {\"lineage\": \"B_1_621\", \"variant\": \"T205I\", \"POS\": 28885}, {\"lineage\": \"B_1_621\", \"variant\": \"T237A\", \"POS\": 3427}, {\"lineage\": \"B_1_621\", \"variant\": \"T492I\", \"POS\": 10027}, {\"lineage\": \"B_1_621\", \"variant\": \"T720I\", \"POS\": 4876}, {\"lineage\": \"B_1_621\", \"variant\": \"T95I\", \"POS\": 21844}, {\"lineage\": \"B_1_621\", \"variant\": \"del_26158\", \"POS\": 26157}, {\"lineage\": \"C_37\", \"variant\": \"A23403G\", \"POS\": 23402}, {\"lineage\": \"C_37\", \"variant\": \"A28271T\", \"POS\": 28270}, {\"lineage\": \"C_37\", \"variant\": \"C10029T\", \"POS\": 10028}, {\"lineage\": \"C_37\", \"variant\": \"C13536T\", \"POS\": 13535}, {\"lineage\": \"C_37\", \"variant\": \"C14408T\", \"POS\": 14407}, {\"lineage\": \"C_37\", \"variant\": \"C21789T\", \"POS\": 21788}, {\"lineage\": \"C_37\", \"variant\": \"C23731T\", \"POS\": 23730}, {\"lineage\": \"C_37\", \"variant\": \"C24138A\", \"POS\": 24137}, {\"lineage\": \"C_37\", \"variant\": \"C241T\", \"POS\": 240}, {\"lineage\": \"C_37\", \"variant\": \"C28253T\", \"POS\": 28252}, {\"lineage\": \"C_37\", \"variant\": \"C28311T\", \"POS\": 28310}, {\"lineage\": \"C_37\", \"variant\": \"C29311T\", \"POS\": 29310}, {\"lineage\": \"C_37\", \"variant\": \"C3037T\", \"POS\": 3036}, {\"lineage\": \"C_37\", \"variant\": \"C4002T\", \"POS\": 4001}, {\"lineage\": \"C_37\", \"variant\": \"C7124T\", \"POS\": 7123}, {\"lineage\": \"C_37\", \"variant\": \"C9857T\", \"POS\": 9856}, {\"lineage\": \"C_37\", \"variant\": \"D614G\", \"POS\": 23401}, {\"lineage\": \"C_37\", \"variant\": \"F1569V\", \"POS\": 7423}, {\"lineage\": \"C_37\", \"variant\": \"F490S\", \"POS\": 23029}, {\"lineage\": \"C_37\", \"variant\": \"G204R\", \"POS\": 28882}, {\"lineage\": \"C_37\", \"variant\": \"G214C\", \"POS\": 28912}, {\"lineage\": \"C_37\", \"variant\": \"G21786T\", \"POS\": 21785}, {\"lineage\": \"C_37\", \"variant\": \"G28881A\", \"POS\": 28880}, {\"lineage\": \"C_37\", \"variant\": \"G28882A\", \"POS\": 28881}, {\"lineage\": \"C_37\", \"variant\": \"G28883C\", \"POS\": 28882}, {\"lineage\": \"C_37\", \"variant\": \"G28913T\", \"POS\": 28912}, {\"lineage\": \"C_37\", \"variant\": \"G75V\", \"POS\": 21784}, {\"lineage\": \"C_37\", \"variant\": \"L438P\", \"POS\": 9865}, {\"lineage\": \"C_37\", \"variant\": \"L452Q\", \"POS\": 22915}, {\"lineage\": \"C_37\", \"variant\": \"P13L\", \"POS\": 28309}, {\"lineage\": \"C_37\", \"variant\": \"P1469S\", \"POS\": 7123}, {\"lineage\": \"C_37\", \"variant\": \"P323L\", \"POS\": 14406}, {\"lineage\": \"C_37\", \"variant\": \"R203K\", \"POS\": 28879}, {\"lineage\": \"C_37\", \"variant\": \"T22917A\", \"POS\": 22916}, {\"lineage\": \"C_37\", \"variant\": \"T23031C\", \"POS\": 23030}, {\"lineage\": \"C_37\", \"variant\": \"T428I\", \"POS\": 4000}, {\"lineage\": \"C_37\", \"variant\": \"T492I\", \"POS\": 10027}, {\"lineage\": \"C_37\", \"variant\": \"T7424G\", \"POS\": 7423}, {\"lineage\": \"C_37\", \"variant\": \"T76I\", \"POS\": 21787}, {\"lineage\": \"C_37\", \"variant\": \"T859N\", \"POS\": 24136}, {\"lineage\": \"C_37\", \"variant\": \"T9867C\", \"POS\": 9866}, {\"lineage\": \"C_37\", \"variant\": \"del_11288\", \"POS\": 11287}, {\"lineage\": \"C_37\", \"variant\": \"del_22299\", \"POS\": 22298}, {\"lineage\": \"P_1\", \"variant\": \"A22812C\", \"POS\": 22811}, {\"lineage\": \"P_1\", \"variant\": \"A23063T\", \"POS\": 23062}, {\"lineage\": \"P_1\", \"variant\": \"A23403G\", \"POS\": 23402}, {\"lineage\": \"P_1\", \"variant\": \"A28877T\", \"POS\": 28876}, {\"lineage\": \"P_1\", \"variant\": \"A5648C\", \"POS\": 5647}, {\"lineage\": \"P_1\", \"variant\": \"A6319G\", \"POS\": 6318}, {\"lineage\": \"P_1\", \"variant\": \"A6613G\", \"POS\": 6612}, {\"lineage\": \"P_1\", \"variant\": \"C12778T\", \"POS\": 12777}, {\"lineage\": \"P_1\", \"variant\": \"C13860T\", \"POS\": 13859}, {\"lineage\": \"P_1\", \"variant\": \"C14408T\", \"POS\": 14407}, {\"lineage\": \"P_1\", \"variant\": \"C21614T\", \"POS\": 21613}, {\"lineage\": \"P_1\", \"variant\": \"C21621A\", \"POS\": 21620}, {\"lineage\": \"P_1\", \"variant\": \"C21638T\", \"POS\": 21637}, {\"lineage\": \"P_1\", \"variant\": \"C23525T\", \"POS\": 23524}, {\"lineage\": \"P_1\", \"variant\": \"C241T\", \"POS\": 240}, {\"lineage\": \"P_1\", \"variant\": \"C24642T\", \"POS\": 24641}, {\"lineage\": \"P_1\", \"variant\": \"C2749T\", \"POS\": 2748}, {\"lineage\": \"P_1\", \"variant\": \"C28512G\", \"POS\": 28511}, {\"lineage\": \"P_1\", \"variant\": \"C3037T\", \"POS\": 3036}, {\"lineage\": \"P_1\", \"variant\": \"C3828T\", \"POS\": 3827}, {\"lineage\": \"P_1\", \"variant\": \"D138Y\", \"POS\": 21973}, {\"lineage\": \"P_1\", \"variant\": \"D614G\", \"POS\": 23401}, {\"lineage\": \"P_1\", \"variant\": \"E341D\", \"POS\": 17256}, {\"lineage\": \"P_1\", \"variant\": \"E484K\", \"POS\": 23011}, {\"lineage\": \"P_1\", \"variant\": \"E92K\", \"POS\": 28166}, {\"lineage\": \"P_1\", \"variant\": \"G17259T\", \"POS\": 17258}, {\"lineage\": \"P_1\", \"variant\": \"G204R\", \"POS\": 28882}, {\"lineage\": \"P_1\", \"variant\": \"G21974T\", \"POS\": 21973}, {\"lineage\": \"P_1\", \"variant\": \"G22132T\", \"POS\": 22131}, {\"lineage\": \"P_1\", \"variant\": \"G23012A\", \"POS\": 23011}, {\"lineage\": \"P_1\", \"variant\": \"G25088T\", \"POS\": 25087}, {\"lineage\": \"P_1\", \"variant\": \"G28167A\", \"POS\": 28166}, {\"lineage\": \"P_1\", \"variant\": \"G28878C\", \"POS\": 28877}, {\"lineage\": \"P_1\", \"variant\": \"G28881A\", \"POS\": 28880}, {\"lineage\": \"P_1\", \"variant\": \"G28882A\", \"POS\": 28881}, {\"lineage\": \"P_1\", \"variant\": \"G28883C\", \"POS\": 28882}, {\"lineage\": \"P_1\", \"variant\": \"H655Y\", \"POS\": 23524}, {\"lineage\": \"P_1\", \"variant\": \"K417T\", \"POS\": 22810}, {\"lineage\": \"P_1\", \"variant\": \"K977Q\", \"POS\": 5647}, {\"lineage\": \"P_1\", \"variant\": \"L18F\", \"POS\": 21613}, {\"lineage\": \"P_1\", \"variant\": \"N501Y\", \"POS\": 23062}, {\"lineage\": \"P_1\", \"variant\": \"P26S\", \"POS\": 21637}, {\"lineage\": \"P_1\", \"variant\": \"P323L\", \"POS\": 14406}, {\"lineage\": \"P_1\", \"variant\": \"P80R\", \"POS\": 28510}, {\"lineage\": \"P_1\", \"variant\": \"R190S\", \"POS\": 22129}, {\"lineage\": \"P_1\", \"variant\": \"R203K\", \"POS\": 28879}, {\"lineage\": \"P_1\", \"variant\": \"S202C\", \"POS\": 28876}, {\"lineage\": \"P_1\", \"variant\": \"S202T\", \"POS\": 28876}, {\"lineage\": \"P_1\", \"variant\": \"S253P\", \"POS\": 26148}, {\"lineage\": \"P_1\", \"variant\": \"S370L\", \"POS\": 3826}, {\"lineage\": \"P_1\", \"variant\": \"T1027I\", \"POS\": 24640}, {\"lineage\": \"P_1\", \"variant\": \"T20N\", \"POS\": 21619}, {\"lineage\": \"P_1\", \"variant\": \"T26149C\", \"POS\": 26148}, {\"lineage\": \"P_1\", \"variant\": \"T733C\", \"POS\": 732}, {\"lineage\": \"P_1\", \"variant\": \"V1176F\", \"POS\": 25087}, {\"lineage\": \"P_1\", \"variant\": \"del_11288\", \"POS\": 11287}, {\"lineage\": \"P_1\", \"variant\": \"ins_28263\", \"POS\": 28262}]}}, {\"actions\": true, \"mode\": \"vega-lite\"});\n",
       "</script>"
      ],
      "text/plain": [
       "alt.Chart(...)"
      ]
     },
     "execution_count": 6,
     "metadata": {},
     "output_type": "execute_result"
    }
   ],
   "source": [
    "alt.renderers.set_embed_options(actions=True)\n",
    "\n",
    "alt.Chart(df.groupby(['lineage','variant']).agg({'POS':'min'}).reset_index()).mark_tick(color='green').encode(\n",
    "    x=alt.X(\"POS:Q\",title='Position',axis=alt.Axis(grid=False)),\n",
    "    y=alt.Y(\"lineage:O\",title='Lineage',\n",
    "            axis=alt.Axis(grid=False)),\n",
    "    tooltip=[\n",
    "            alt.Tooltip(\"variant\",title=\"variant\")]\n",
    ").properties(\n",
    "    width=800,\n",
    "    height=200\n",
    ")"
   ]
  },
  {
   "cell_type": "code",
   "execution_count": 7,
   "id": "798086d4-e88e-44b0-a61b-ef9b48e547d4",
   "metadata": {},
   "outputs": [],
   "source": [
    "df.to_csv('ucsc_lineages.csv.gz',index=False,compression='gzip')"
   ]
  },
  {
   "cell_type": "code",
   "execution_count": null,
   "id": "4f17cffb-63e7-4704-b7d3-ce59a6080658",
   "metadata": {},
   "outputs": [],
   "source": []
  }
 ],
 "metadata": {
  "kernelspec": {
   "display_name": "Python 3 (ipykernel)",
   "language": "python",
   "name": "python3"
  },
  "language_info": {
   "codemirror_mode": {
    "name": "ipython",
    "version": 3
   },
   "file_extension": ".py",
   "mimetype": "text/x-python",
   "name": "python",
   "nbconvert_exporter": "python",
   "pygments_lexer": "ipython3",
   "version": "3.9.7"
  }
 },
 "nbformat": 4,
 "nbformat_minor": 5
}
